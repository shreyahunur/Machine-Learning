{
 "cells": [
  {
   "cell_type": "markdown",
   "id": "47c0f908",
   "metadata": {},
   "source": [
    "# 1 Matrices and Numpy"
   ]
  },
  {
   "cell_type": "markdown",
   "id": "f9c687c3",
   "metadata": {},
   "source": [
    "## 1.1 Matrices Theory"
   ]
  },
  {
   "cell_type": "markdown",
   "id": "99dcc604",
   "metadata": {},
   "source": [
    "### 1.1.1 Write properties of matrices"
   ]
  },
  {
   "cell_type": "markdown",
   "id": "eb0eeb06",
   "metadata": {},
   "source": [
    "### 1.1.2 Write a python function to get a matrix from user"
   ]
  },
  {
   "cell_type": "markdown",
   "id": "1e9509eb",
   "metadata": {},
   "source": [
    "### 1.1.3 Get two matrices from the user and give them names A and B"
   ]
  },
  {
   "cell_type": "markdown",
   "id": "c22f308a",
   "metadata": {},
   "source": [
    "## 1.2 Matrix manipulation without using Numpy"
   ]
  },
  {
   "cell_type": "markdown",
   "id": "9508bb2e",
   "metadata": {},
   "source": [
    "### 1.2.1 Perform A^n (n is a user entered values)"
   ]
  },
  {
   "cell_type": "markdown",
   "id": "37557ddc",
   "metadata": {},
   "source": [
    "### 1.2.2 Perform A Transpose"
   ]
  },
  {
   "cell_type": "markdown",
   "id": "2e25f652",
   "metadata": {},
   "source": [
    "### 1.2.3 Calculate Determinant of A"
   ]
  },
  {
   "cell_type": "markdown",
   "id": "d82f51f0",
   "metadata": {},
   "source": [
    "### 1.2.4 Calculate A Inverse (If not possible code should give relevant reason)"
   ]
  },
  {
   "cell_type": "markdown",
   "id": "308f8844",
   "metadata": {},
   "source": [
    "### 1.2.5 Calculate A*B (If not possible, code should give relevant reason)"
   ]
  },
  {
   "cell_type": "markdown",
   "id": "cfc40ab4",
   "metadata": {},
   "source": [
    "### 1.2.6 Calculate A+B (If not possible, code should give relevant reason)"
   ]
  },
  {
   "cell_type": "markdown",
   "id": "f61c91ab",
   "metadata": {},
   "source": [
    "## 1.3 Matrix manipulation using Numpy\n"
   ]
  },
  {
   "cell_type": "markdown",
   "id": "07374ed1",
   "metadata": {},
   "source": [
    "### 1.3.1 Perform all the operations in the previous question using Numpy"
   ]
  },
  {
   "cell_type": "markdown",
   "id": "68858b57",
   "metadata": {},
   "source": [
    "### 1.3.2 Perform following operations in Numpy: Reduced Mean, Reduced Sum, Argmax, Zip and One Hot Encoding"
   ]
  },
  {
   "cell_type": "markdown",
   "id": "625e59f7",
   "metadata": {},
   "source": [
    "# 2 Pandas"
   ]
  },
  {
   "cell_type": "markdown",
   "id": "6f63d216",
   "metadata": {},
   "source": [
    "## 2.1 read a csv data to pandas dataframe (data 1)"
   ]
  },
  {
   "cell_type": "markdown",
   "id": "ed00daa4",
   "metadata": {},
   "source": [
    "## 2.2 Demonstrate any 5 functions from the following link on the loaded dataset\n",
    "\n",
    "https://pandas.pydata.org/docs/reference/general_functions.html"
   ]
  },
  {
   "cell_type": "markdown",
   "id": "887f85ee",
   "metadata": {},
   "source": [
    "# 3 Plotting"
   ]
  },
  {
   "cell_type": "markdown",
   "id": "b11fb4e0",
   "metadata": {},
   "source": [
    "## 3.1 read a csv data to pandas dataframe (data 2)"
   ]
  },
  {
   "cell_type": "markdown",
   "id": "f7e75b66",
   "metadata": {},
   "source": [
    "## 3.2 plot the above dataset using matplotlib"
   ]
  },
  {
   "cell_type": "markdown",
   "id": "4afadc8a",
   "metadata": {},
   "source": [
    "## 3.3 load the tips dataset from seaborn"
   ]
  },
  {
   "cell_type": "markdown",
   "id": "a897f23c",
   "metadata": {},
   "source": [
    "## 3.4 plot pairplot, jointplot, catplot, displot, and HeatMap for the above dataset and give your comments on each plot"
   ]
  }
 ],
 "metadata": {
  "kernelspec": {
   "display_name": "Python 3",
   "language": "python",
   "name": "python3"
  },
  "language_info": {
   "codemirror_mode": {
    "name": "ipython",
    "version": 3
   },
   "file_extension": ".py",
   "mimetype": "text/x-python",
   "name": "python",
   "nbconvert_exporter": "python",
   "pygments_lexer": "ipython3",
   "version": "3.8.8"
  }
 },
 "nbformat": 4,
 "nbformat_minor": 5
}
