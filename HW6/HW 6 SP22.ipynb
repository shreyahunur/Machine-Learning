{
 "cells": [
  {
   "cell_type": "markdown",
   "id": "984f967f",
   "metadata": {},
   "source": [
    "# Decision Trees and Random Forests"
   ]
  },
  {
   "cell_type": "markdown",
   "id": "b0397d56",
   "metadata": {},
   "source": [
    "## 1. What is a decision tree?"
   ]
  },
  {
   "cell_type": "markdown",
   "id": "6a6b6e3c",
   "metadata": {},
   "source": [
    "A Decision tree is a flowchart like tree structure, where each internal node denotes a test on an attribute, each branch represents an outcome of the test, and each leaf node (terminal node) holds a class label. \n",
    " \n",
    "A tree can be “learned” by splitting the source set into subsets based on an attribute value test. This process is repeated on each derived subset in a recursive manner called recursive partitioning. The recursion is completed when the subset at a node all has the same value of the target variable, or when splitting no longer adds value to the predictions. "
   ]
  },
  {
   "cell_type": "markdown",
   "id": "205318ab",
   "metadata": {},
   "source": [
    "## 2. What are the advantages and disadvantages of a decision tree?"
   ]
  },
  {
   "cell_type": "markdown",
   "id": "b47b84df",
   "metadata": {},
   "source": [
    "##### Advantages of Decision Tree\n",
    "\n",
    "1. Clear Visualization: The algorithm is simple to understand, interpret and visualize as the idea is mostly used in our daily lives. Output of a Decision Tree can be easily interpreted by humans.\n",
    "\n",
    "2. Simple and easy to understand: Decision Tree looks like simple if-else statements which are very easy to understand.\n",
    "\n",
    "3. Decision Tree can be used for both classification and regression problems.\n",
    "\n",
    "4. Decision Tree can handle both continuous and categorical variables.\n",
    "\n",
    "5. No feature scaling required: No feature scaling (standardization and normalization) required in case of Decision Tree as it uses rule based approach instead of distance calculation.\n",
    "\n",
    "6. Handles non-linear parameters efficiently: Non linear parameters don’t affect the performance of a Decision Tree unlike curve based algorithms. So, if there is high non-linearity between the independent variables, Decision Trees may outperform as compared to other curve based algorithms.\n",
    "\n",
    "7. Decision Tree can automatically handle missing values.\n",
    "\n",
    "8. Decision Tree is usually robust to outliers and can handle them automatically.\n",
    "\n",
    "9. Less Training Period: Training period is less as compared to Random Forest because it generates only one tree unlike forest of trees in the Random Forest.\n"
   ]
  },
  {
   "cell_type": "markdown",
   "id": "f97e18d4",
   "metadata": {},
   "source": [
    "##### Disadvantages of Decision Tree\n",
    "\n",
    "1. Overfitting: This is the main problem of the Decision Tree. It generally leads to overfitting of the data which ultimately leads to wrong predictions. In order to fit the data (even noisy data), it keeps generating new nodes and ultimately the tree becomes too complex to interpret. In this way, it loses its generalization capabilities. It performs very well on the trained data but starts making a lot of mistakes on the unseen data.\n",
    "2. High variance: As mentioned in point 1, Decision Tree generally leads to the overfitting of data. Due to the overfitting, there are very high chances of high variance in the output which leads to many errors in the final estimation and shows high inaccuracy in the results. In order to achieve zero bias (overfitting), it leads to high variance.\n",
    "3. Unstable: Adding a new data point can lead to re-generation of the overall tree and all nodes need to be recalculated and recreated.\n",
    "4. Not suitable for large datasets: If data size is large, then one single tree may grow complex and lead to overfitting. So in this case, we should use Random Forest instead of a single Decision Tree."
   ]
  },
  {
   "cell_type": "markdown",
   "id": "ec27050f",
   "metadata": {},
   "source": [
    "## 3. Explain pruning"
   ]
  },
  {
   "cell_type": "markdown",
   "id": "d3861773",
   "metadata": {},
   "source": [
    "Pruning is mostly done to reduce the chances of overfitting the tree to the training data and reduce\n",
    "the overall complexity of the tree.\n",
    "\n",
    "There are two types of pruning: Pre-pruning and Post-pruning.\n",
    "\n",
    "1. Pre-pruning is also known as the early stopping criteria. As the name suggests, the criteria are set as parameter values while building the model. The tree stops growing when it meets any of these pre-pruning criteria, or it discovers the pure classes.\n",
    "\n",
    "2. In Post-pruning, the idea is to allow the decision tree to grow fully and observe the CP value. Next, we prune/cut the tree with the optimal CP(Complexity Parameter) value as the parameter. The CP (complexity parameter) is used to control tree growth. If the cost of adding a variable is higher, then the value of CP, tree growth stops."
   ]
  },
  {
   "cell_type": "markdown",
   "id": "2fbc0bdb",
   "metadata": {},
   "source": [
    "Pruning should ensure the following:\n",
    "- The subtree is optimal — meaning it has the highest accuracy on the cross-validated training set. (Trees can be optimized for whatever parameter is most important to the engineer — not always accuracy)\n",
    "- The search for the optimal subtree should be computationally tractable."
   ]
  },
  {
   "cell_type": "markdown",
   "id": "bafe3629",
   "metadata": {},
   "source": [
    "Advantages of Pruning a Decision Tree\n",
    "1. Pruning reduces the complexity of the final tree and thereby reduces overfitting.\n",
    "2. Explainability — Pruned trees are shorter, simpler, and easier to explain.\n",
    "\n",
    "Limitations of Pruning\n",
    "1. Similar to Lasso regularization, there is no real disadvantage. However, pruning does come with a high computational cost."
   ]
  },
  {
   "cell_type": "markdown",
   "id": "ee8c590c",
   "metadata": {},
   "source": [
    "## 4. What is ensembling?"
   ]
  },
  {
   "cell_type": "markdown",
   "id": "166ccc73",
   "metadata": {},
   "source": [
    "Ensemble methods – which combines several decision trees to produce better predictive performance than utilizing a single decision tree. The main principle behind the ensemble model is that a group of weak learners come together to form a strong learner.\n",
    "\n",
    "It is a solution to overcome the following technical challenges of building a single estimator:\n",
    "- High variance: The model is very sensitive to the provided inputs to the learned features.\n",
    "- Low accuracy: One model or one algorithm to fit the entire training data might not be good enough to meet expectations.\n",
    "- Features noise and bias: The model relies heavily on one or a few features while making a prediction.\n",
    "\n",
    "Two techniques to perform ensemble decision trees:\n",
    "\n",
    "1. Bagging\n",
    "\n",
    "2. Boosting"
   ]
  },
  {
   "cell_type": "markdown",
   "id": "34518fd7",
   "metadata": {},
   "source": [
    "## 5. Explain bagging"
   ]
  },
  {
   "cell_type": "markdown",
   "id": "dee6469a",
   "metadata": {},
   "source": [
    "Bagging (Bootstrap Aggregation) is used when our goal is to reduce the variance of a decision tree. Here the idea is to create several subsets of data from the training sample chosen randomly with replacement. Now, each collection of subset data is used to train their decision trees. As a result, we end up with an ensemble of different models. Average of all the predictions from different trees are used which is more robust than a single decision tree."
   ]
  },
  {
   "cell_type": "markdown",
   "id": "05933dab",
   "metadata": {},
   "source": [
    "Bagging takes N new training data sets by random sampling with replacement"
   ]
  },
  {
   "cell_type": "markdown",
   "id": "353e7c10",
   "metadata": {},
   "source": [
    "Three basic steps:\n",
    "\n",
    "1. Bootstrapping:  Bagging leverages a bootstrapping sampling technique to create diverse samples. This resampling method generates different subsets of the training dataset by selecting data points at random and with replacement. This means that each time you select a data point from the training dataset, you are able to select the same instance multiple times. As a result, a value/instance repeated twice (or more) in a sample.\n",
    "\n",
    "2. Parallel training: These bootstrap samples are then trained independently and in parallel with each other using weak or base learners.\n",
    "\n",
    "3. Aggregation: Finally, depending on the task (i.e. regression or classification), an average or a majority of the predictions are taken to compute a more accurate estimate. In the case of regression, an average is taken of all the outputs predicted by the individual classifiers; this is known as soft voting. For classification problems, the class with the highest majority of votes is accepted; this is known as hard voting or majority voting."
   ]
  },
  {
   "cell_type": "markdown",
   "id": "0f68b2ac",
   "metadata": {},
   "source": [
    "## 6. What are random forests?"
   ]
  },
  {
   "cell_type": "markdown",
   "id": "14fb8a8d",
   "metadata": {},
   "source": [
    "Random Forest is an ensemble machine learning algorithm that follows the bagging technique. The base estimators in the random forest are decision trees. Random forest randomly selects a set of features that are used to decide the best split at each node of the decision tree.\n",
    "\n",
    "Looking at it step-by-step, this is what a random forest model does:\n",
    "\n",
    "1. Random subsets are created from the original dataset (bootstrapping).\n",
    "\n",
    "2. At each node in the decision tree, only a random set of features are considered to decide the best split.\n",
    "\n",
    "3. A decision tree model is fitted on each of the subsets.\n",
    "\n",
    "4. The final prediction is calculated by averaging the predictions from all decision trees.\n",
    "\n",
    "To sum up, the Random forest randomly selects data points and features and builds multiple trees (Forest).\n",
    "\n",
    "Random Forest is used for feature importance selection. The attribute (.feature_importances_) is used to find feature importance.\n",
    "\n",
    "Some Important Parameters:-\n",
    "\n",
    "1. n_estimators:- It defines the number of decision trees to be created in a random forest.\n",
    "\n",
    "2. criterion:- “Gini” or “Entropy.”\n",
    "\n",
    "3. min_samples_split:- Used to define the minimum number of samples required in a leaf node before a split is attempted\n",
    "\n",
    "4. max_features: –It defines the maximum number of features allowed for the split in each decision tree.\n",
    "\n",
    "5. n_jobs:- The number of jobs to run in parallel for both fit and predict. Always keep (-1) to use all the cores for parallel processing."
   ]
  },
  {
   "cell_type": "markdown",
   "id": "a18d7982",
   "metadata": {},
   "source": [
    "Advantages of Random Forest\n",
    "\n",
    "1. Doesn’t Overfit\n",
    "2. Less Parameter Tuning required\n",
    "3. Decision Tree can handle both continuous and categorical variables.\n",
    "4. No feature scaling required: No feature scaling (standardization and normalization) required in case of Random Forest as it uses Decision Tree internally\n",
    "5. Suitable for any kind of ML problems\n",
    "\n",
    "Disadvantages of Random Forest\n",
    "\n",
    "1.Biased With features having many categories. Biased in multiclass classification problems towards more frequent classes."
   ]
  },
  {
   "cell_type": "markdown",
   "id": "524a55d8",
   "metadata": {},
   "source": [
    "## 7. Classify the iris dataset using decision trees"
   ]
  },
  {
   "cell_type": "code",
   "execution_count": 21,
   "id": "b33c9975",
   "metadata": {},
   "outputs": [],
   "source": [
    "import pandas as pd\n",
    "import numpy as np\n",
    "from sklearn import datasets\n",
    "from sklearn.datasets import load_wine\n",
    "from sklearn import tree\n",
    "from sklearn.model_selection import train_test_split\n",
    "from sklearn.tree import DecisionTreeClassifier\n",
    "from sklearn.metrics import accuracy_score\n",
    "import seaborn as sns\n",
    "import matplotlib.pyplot as plt\n",
    "from sklearn.ensemble import RandomForestClassifier\n",
    "from sklearn.datasets import load_iris\n",
    "from sklearn.metrics import classification_report, confusion_matrix, accuracy_score"
   ]
  },
  {
   "cell_type": "code",
   "execution_count": 22,
   "id": "7434455a",
   "metadata": {},
   "outputs": [],
   "source": [
    "#loading the data\n",
    "iris = load_iris()"
   ]
  },
  {
   "cell_type": "code",
   "execution_count": 23,
   "id": "48984382",
   "metadata": {},
   "outputs": [],
   "source": [
    "X = iris.data\n",
    "y = iris.target"
   ]
  },
  {
   "cell_type": "code",
   "execution_count": 24,
   "id": "d7f3c63d",
   "metadata": {},
   "outputs": [],
   "source": [
    "# Split dataset into training set and test set\n",
    "X_train, X_test, y_train, y_test = train_test_split(X, y, test_size=0.3)"
   ]
  },
  {
   "cell_type": "code",
   "execution_count": 25,
   "id": "ba63dafd",
   "metadata": {},
   "outputs": [
    {
     "name": "stdout",
     "output_type": "stream",
     "text": [
      "Accuracy:  0.9556\n"
     ]
    }
   ],
   "source": [
    "decision_tree = DecisionTreeClassifier()\n",
    "decision_tree.fit(X_train,y_train)\n",
    "y_pred1 = decision_tree.predict(X_test)\n",
    "print('Accuracy: ', round(accuracy_score(y_test, y_pred1),4))"
   ]
  },
  {
   "cell_type": "code",
   "execution_count": 26,
   "id": "e6adcd1d",
   "metadata": {},
   "outputs": [
    {
     "name": "stdout",
     "output_type": "stream",
     "text": [
      "Accuracy:  0.9556\n"
     ]
    }
   ],
   "source": [
    "d_tree = DecisionTreeClassifier(criterion = 'entropy')\n",
    "d_tree.fit(X_train, y_train)\n",
    "y_pred2 = d_tree.predict(X_test)\n",
    "print('Accuracy: ', round(accuracy_score(y_test, y_pred2),4))"
   ]
  },
  {
   "cell_type": "markdown",
   "id": "ab40580b",
   "metadata": {},
   "source": [
    "## 8. Tune the hyper parameters and comment the meaning of each hyper parameter you have tuned"
   ]
  },
  {
   "cell_type": "code",
   "execution_count": 27,
   "id": "b56ba6af",
   "metadata": {},
   "outputs": [],
   "source": [
    "param_dict = {\"criterion\":['gini','entropy'],\n",
    "              \"max_depth\":range(1,10),\n",
    "             \"min_samples_split\":range(1,10),\n",
    "             \"min_samples_leaf\":range(1,5)\n",
    "             }"
   ]
  },
  {
   "cell_type": "code",
   "execution_count": 28,
   "id": "a79e11e4",
   "metadata": {},
   "outputs": [
    {
     "name": "stdout",
     "output_type": "stream",
     "text": [
      "Fitting 10 folds for each of 648 candidates, totalling 6480 fits\n"
     ]
    },
    {
     "name": "stderr",
     "output_type": "stream",
     "text": [
      "/Users/shreyahunur/opt/anaconda3/lib/python3.8/site-packages/sklearn/model_selection/_search.py:922: UserWarning: One or more of the test scores are non-finite: [       nan 0.70363636 0.70363636 0.70363636 0.70363636 0.70363636\n",
      " 0.70363636 0.70363636 0.70363636        nan 0.70363636 0.70363636\n",
      " 0.70363636 0.70363636 0.70363636 0.70363636 0.70363636 0.70363636\n",
      "        nan 0.70363636 0.70363636 0.70363636 0.70363636 0.70363636\n",
      " 0.70363636 0.70363636 0.70363636        nan 0.70363636 0.70363636\n",
      " 0.70363636 0.70363636 0.70363636 0.70363636 0.70363636 0.70363636\n",
      "        nan 0.95363636 0.95363636 0.95363636 0.95363636 0.95363636\n",
      " 0.95363636 0.95363636 0.95363636        nan 0.95363636 0.95363636\n",
      " 0.95363636 0.95363636 0.95363636 0.95363636 0.95363636 0.95363636\n",
      "        nan 0.95363636 0.95363636 0.95363636 0.95363636 0.95363636\n",
      " 0.95363636 0.95363636 0.95363636        nan 0.95363636 0.95363636\n",
      " 0.95363636 0.95363636 0.95363636 0.95363636 0.95363636 0.95363636\n",
      "        nan 0.94454545 0.94454545 0.94454545 0.94454545 0.94454545\n",
      " 0.94454545 0.94454545 0.94454545        nan 0.94454545 0.94454545\n",
      " 0.94454545 0.94454545 0.94454545 0.94454545 0.94454545 0.94454545\n",
      "        nan 0.94454545 0.94454545 0.94454545 0.94454545 0.94454545\n",
      " 0.94454545 0.94454545 0.94454545        nan 0.94454545 0.94454545\n",
      " 0.94454545 0.94454545 0.94454545 0.94454545 0.94454545 0.94454545\n",
      "        nan 0.94454545 0.94454545 0.95363636 0.94454545 0.94454545\n",
      " 0.93545455 0.94454545 0.94454545        nan 0.97181818 0.95363636\n",
      " 0.95363636 0.94454545 0.94454545 0.94454545 0.94454545 0.94454545\n",
      "        nan 0.94454545 0.94454545 0.94454545 0.94454545 0.94454545\n",
      " 0.94454545 0.94454545 0.94454545        nan 0.94454545 0.94454545\n",
      " 0.94454545 0.94454545 0.94454545 0.94454545 0.94454545 0.94454545\n",
      "        nan 0.94454545 0.94454545 0.94454545 0.94454545 0.93545455\n",
      " 0.94454545 0.93545455 0.94454545        nan 0.97181818 0.96272727\n",
      " 0.96272727 0.94454545 0.94454545 0.94454545 0.94454545 0.94454545\n",
      "        nan 0.94454545 0.94454545 0.94454545 0.94454545 0.94454545\n",
      " 0.94454545 0.94454545 0.94454545        nan 0.94454545 0.94454545\n",
      " 0.94454545 0.94454545 0.94454545 0.94454545 0.94454545 0.94454545\n",
      "        nan 0.94454545 0.94454545 0.95363636 0.94454545 0.94454545\n",
      " 0.93545455 0.94454545 0.94454545        nan 0.96272727 0.96272727\n",
      " 0.95363636 0.94454545 0.94454545 0.94454545 0.94454545 0.94454545\n",
      "        nan 0.94454545 0.94454545 0.94454545 0.94454545 0.94454545\n",
      " 0.94454545 0.94454545 0.94454545        nan 0.94454545 0.94454545\n",
      " 0.94454545 0.94454545 0.94454545 0.94454545 0.94454545 0.94454545\n",
      "        nan 0.96272727 0.94454545 0.94454545 0.93545455 0.94454545\n",
      " 0.93545455 0.94454545 0.93545455        nan 0.96272727 0.95363636\n",
      " 0.97181818 0.94454545 0.94454545 0.94454545 0.94454545 0.94454545\n",
      "        nan 0.94454545 0.94454545 0.94454545 0.94454545 0.94454545\n",
      " 0.94454545 0.94454545 0.94454545        nan 0.94454545 0.94454545\n",
      " 0.94454545 0.94454545 0.94454545 0.94454545 0.94454545 0.94454545\n",
      "        nan 0.95363636 0.94454545 0.94454545 0.94454545 0.93545455\n",
      " 0.93545455 0.94454545 0.93545455        nan 0.95363636 0.96272727\n",
      " 0.96272727 0.94454545 0.94454545 0.94454545 0.94454545 0.94454545\n",
      "        nan 0.94454545 0.94454545 0.94454545 0.94454545 0.94454545\n",
      " 0.94454545 0.94454545 0.94454545        nan 0.94454545 0.94454545\n",
      " 0.94454545 0.94454545 0.94454545 0.94454545 0.94454545 0.94454545\n",
      "        nan 0.96272727 0.95363636 0.94454545 0.93545455 0.94454545\n",
      " 0.93545455 0.94454545 0.94454545        nan 0.97181818 0.96272727\n",
      " 0.96272727 0.94454545 0.94454545 0.94454545 0.94454545 0.94454545\n",
      "        nan 0.94454545 0.94454545 0.94454545 0.94454545 0.94454545\n",
      " 0.94454545 0.94454545 0.94454545        nan 0.94454545 0.94454545\n",
      " 0.94454545 0.94454545 0.94454545 0.94454545 0.94454545 0.94454545\n",
      "        nan 0.70363636 0.70363636 0.70363636 0.70363636 0.70363636\n",
      " 0.70363636 0.70363636 0.70363636        nan 0.70363636 0.70363636\n",
      " 0.70363636 0.70363636 0.70363636 0.70363636 0.70363636 0.70363636\n",
      "        nan 0.70363636 0.70363636 0.70363636 0.70363636 0.70363636\n",
      " 0.70363636 0.70363636 0.70363636        nan 0.70363636 0.70363636\n",
      " 0.70363636 0.70363636 0.70363636 0.70363636 0.70363636 0.70363636\n",
      "        nan 0.95363636 0.95363636 0.95363636 0.95363636 0.95363636\n",
      " 0.95363636 0.95363636 0.95363636        nan 0.95363636 0.95363636\n",
      " 0.95363636 0.95363636 0.95363636 0.95363636 0.95363636 0.95363636\n",
      "        nan 0.95363636 0.95363636 0.95363636 0.95363636 0.95363636\n",
      " 0.95363636 0.95363636 0.95363636        nan 0.95363636 0.95363636\n",
      " 0.95363636 0.95363636 0.95363636 0.95363636 0.95363636 0.95363636\n",
      "        nan 0.94454545 0.94454545 0.94454545 0.94454545 0.94454545\n",
      " 0.94454545 0.94454545 0.94454545        nan 0.94454545 0.94454545\n",
      " 0.94454545 0.94454545 0.94454545 0.94454545 0.94454545 0.94454545\n",
      "        nan 0.94454545 0.94454545 0.94454545 0.94454545 0.94454545\n",
      " 0.94454545 0.94454545 0.94454545        nan 0.94454545 0.94454545\n",
      " 0.94454545 0.94454545 0.94454545 0.94454545 0.94454545 0.94454545\n",
      "        nan 0.94454545 0.95363636 0.95363636 0.94454545 0.93545455\n",
      " 0.94454545 0.93545455 0.94454545        nan 0.95363636 0.95363636\n",
      " 0.95363636 0.94454545 0.94454545 0.94454545 0.94454545 0.94454545\n",
      "        nan 0.94454545 0.94454545 0.93545455 0.93545455 0.93545455\n",
      " 0.94454545 0.93545455 0.94454545        nan 0.94454545 0.94454545\n",
      " 0.94454545 0.94454545 0.94454545 0.93545455 0.93545455 0.93545455\n",
      "        nan 0.94454545 0.94454545 0.95363636 0.94454545 0.94454545\n",
      " 0.94454545 0.94454545 0.94454545        nan 0.95363636 0.96272727\n",
      " 0.95363636 0.94454545 0.94454545 0.94454545 0.94454545 0.94454545\n",
      "        nan 0.94454545 0.93545455 0.94454545 0.93545455 0.94454545\n",
      " 0.94454545 0.94454545 0.94454545        nan 0.93545455 0.94454545\n",
      " 0.93545455 0.93545455 0.93545455 0.94454545 0.93545455 0.93545455\n",
      "        nan 0.94454545 0.95363636 0.95363636 0.94454545 0.93545455\n",
      " 0.93545455 0.94454545 0.93545455        nan 0.95363636 0.95363636\n",
      " 0.95363636 0.94454545 0.94454545 0.94454545 0.94454545 0.94454545\n",
      "        nan 0.93545455 0.94454545 0.94454545 0.93545455 0.93545455\n",
      " 0.93545455 0.93545455 0.93545455        nan 0.93545455 0.94454545\n",
      " 0.93545455 0.94454545 0.94454545 0.94454545 0.93545455 0.93545455\n",
      "        nan 0.95363636 0.94454545 0.94454545 0.94454545 0.93545455\n",
      " 0.94454545 0.93545455 0.93545455        nan 0.95363636 0.95363636\n",
      " 0.96272727 0.94454545 0.94454545 0.94454545 0.94454545 0.94454545\n",
      "        nan 0.94454545 0.93545455 0.94454545 0.93545455 0.93545455\n",
      " 0.94454545 0.93545455 0.93545455        nan 0.94454545 0.93545455\n",
      " 0.93545455 0.94454545 0.93545455 0.93545455 0.93545455 0.93545455\n",
      "        nan 0.94454545 0.95363636 0.94454545 0.94454545 0.93545455\n",
      " 0.93545455 0.94454545 0.94454545        nan 0.95363636 0.95363636\n",
      " 0.95363636 0.94454545 0.94454545 0.94454545 0.94454545 0.94454545\n",
      "        nan 0.93545455 0.93545455 0.93545455 0.93545455 0.94454545\n",
      " 0.94454545 0.94454545 0.93545455        nan 0.93545455 0.94454545\n",
      " 0.94454545 0.94454545 0.93545455 0.94454545 0.93545455 0.93545455\n",
      "        nan 0.95363636 0.94454545 0.94454545 0.94454545 0.93545455\n",
      " 0.94454545 0.93545455 0.94454545        nan 0.95363636 0.96272727\n",
      " 0.95363636 0.94454545 0.94454545 0.94454545 0.94454545 0.94454545\n",
      "        nan 0.94454545 0.93545455 0.94454545 0.94454545 0.94454545\n",
      " 0.94454545 0.93545455 0.94454545        nan 0.94454545 0.93545455\n",
      " 0.94454545 0.93545455 0.93545455 0.93545455 0.94454545 0.93545455]\n",
      "  warnings.warn(\n"
     ]
    },
    {
     "data": {
      "text/plain": [
       "GridSearchCV(cv=10, estimator=DecisionTreeClassifier(), n_jobs=-1,\n",
       "             param_grid={'criterion': ['gini', 'entropy'],\n",
       "                         'max_depth': range(1, 10),\n",
       "                         'min_samples_leaf': range(1, 5),\n",
       "                         'min_samples_split': range(1, 10)},\n",
       "             verbose=1)"
      ]
     },
     "execution_count": 28,
     "metadata": {},
     "output_type": "execute_result"
    }
   ],
   "source": [
    "from sklearn.model_selection import GridSearchCV\n",
    "grid = GridSearchCV(decision_tree,\n",
    "                   param_grid = param_dict,\n",
    "                   cv = 10,\n",
    "                   verbose = 1,\n",
    "                   n_jobs=-1)\n",
    "grid.fit(X_train,y_train)"
   ]
  },
  {
   "cell_type": "code",
   "execution_count": 29,
   "id": "f40736a0",
   "metadata": {},
   "outputs": [
    {
     "data": {
      "text/plain": [
       "{'criterion': 'gini',\n",
       " 'max_depth': 4,\n",
       " 'min_samples_leaf': 2,\n",
       " 'min_samples_split': 2}"
      ]
     },
     "execution_count": 29,
     "metadata": {},
     "output_type": "execute_result"
    }
   ],
   "source": [
    "grid.best_params_"
   ]
  },
  {
   "cell_type": "markdown",
   "id": "21fa2638",
   "metadata": {},
   "source": [
    "criterion{“gini”, “entropy”}\n",
    "- The function to measure the quality of a split. Supported criteria are “gini” for the Gini impurity and “entropy” for the information gain.\n",
    "\n",
    "max_depth\n",
    "- The maximum depth of the tree. If None, then nodes are expanded until all leaves are pure or until all leaves contain less than min_samples_split samples.\n",
    "\n",
    "min_samples_split\n",
    "- The minimum number of samples required to split an internal node:\n",
    "\n",
    "min_samples_leaf\n",
    "- The minimum number of samples required to be at a leaf node. A split point at any depth will only be considered if it leaves at least min_samples_leaf training samples in each of the left and right branches. This may have the effect of smoothing the model, especially in regression."
   ]
  },
  {
   "cell_type": "code",
   "execution_count": 30,
   "id": "0bf97ce5",
   "metadata": {},
   "outputs": [
    {
     "data": {
      "text/plain": [
       "DecisionTreeClassifier(max_depth=4, min_samples_leaf=2)"
      ]
     },
     "execution_count": 30,
     "metadata": {},
     "output_type": "execute_result"
    }
   ],
   "source": [
    "grid.best_estimator_"
   ]
  },
  {
   "cell_type": "code",
   "execution_count": 31,
   "id": "69fa997a",
   "metadata": {},
   "outputs": [
    {
     "data": {
      "text/plain": [
       "0.9718181818181819"
      ]
     },
     "execution_count": 31,
     "metadata": {},
     "output_type": "execute_result"
    }
   ],
   "source": [
    "grid.best_score_"
   ]
  },
  {
   "cell_type": "code",
   "execution_count": 32,
   "id": "925b3efc",
   "metadata": {},
   "outputs": [],
   "source": [
    "y_predz = grid.predict(X_test)"
   ]
  },
  {
   "cell_type": "code",
   "execution_count": 33,
   "id": "b770e3db",
   "metadata": {},
   "outputs": [
    {
     "name": "stdout",
     "output_type": "stream",
     "text": [
      "Accuracy: 0.9555555555555556\n"
     ]
    }
   ],
   "source": [
    "from sklearn import metrics\n",
    "print(\"Accuracy:\",metrics.accuracy_score(y_test, y_predz))"
   ]
  },
  {
   "cell_type": "code",
   "execution_count": 34,
   "id": "e56083cb",
   "metadata": {},
   "outputs": [],
   "source": [
    "clf = tree.DecisionTreeClassifier()\n",
    "clf = clf.fit(X, y)"
   ]
  },
  {
   "cell_type": "code",
   "execution_count": 35,
   "id": "d17010a7",
   "metadata": {},
   "outputs": [
    {
     "data": {
      "image/png": "[encoded data removed]",
      "text/plain": [
       "<Figure size 432x288 with 1 Axes>"
      ]
     },
     "metadata": {
      "needs_background": "light"
     },
     "output_type": "display_data"
    }
   ],
   "source": [
    "tree.plot_tree(clf)\n",
    "plt.show()"
   ]
  },
  {
   "cell_type": "markdown",
   "id": "f92c4981",
   "metadata": {},
   "source": [
    "## 9. Plot the tree and feature importances"
   ]
  },
  {
   "cell_type": "code",
   "execution_count": 36,
   "id": "f3cf217d",
   "metadata": {},
   "outputs": [
    {
     "data": {
      "image/png": "[encoded data removed]",
      "text/plain": [
       "<Figure size 432x288 with 1 Axes>"
      ]
     },
     "metadata": {
      "needs_background": "light"
     },
     "output_type": "display_data"
    }
   ],
   "source": [
    "from sklearn import tree\n",
    "tree.plot_tree(d_tree)\n",
    "plt.show()"
   ]
  },
  {
   "cell_type": "code",
   "execution_count": 37,
   "id": "b96adb5c",
   "metadata": {},
   "outputs": [
    {
     "data": {
      "text/plain": [
       "<BarContainer object of 4 artists>"
      ]
     },
     "execution_count": 37,
     "metadata": {},
     "output_type": "execute_result"
    },
    {
     "data": {
      "image/png": "[encoded data removed]",
      "text/plain": [
       "<Figure size 432x288 with 1 Axes>"
      ]
     },
     "metadata": {
      "needs_background": "light"
     },
     "output_type": "display_data"
    }
   ],
   "source": [
    "#RandomForestClassifier\n",
    "model=RandomForestClassifier(criterion='gini', max_depth= 20)\n",
    "model.fit(X_train,y_train)\n",
    "plt.barh(iris.feature_names, model.feature_importances_)"
   ]
  },
  {
   "cell_type": "markdown",
   "id": "db5b0581",
   "metadata": {},
   "source": [
    "## 10. Repeat questions 7 and 8 using random forests"
   ]
  },
  {
   "cell_type": "code",
   "execution_count": 38,
   "id": "94b95972",
   "metadata": {},
   "outputs": [
    {
     "name": "stdout",
     "output_type": "stream",
     "text": [
      "Accuracy:  0.9778\n"
     ]
    }
   ],
   "source": [
    "y_predicted=model.predict(X_test)\n",
    "print('Accuracy: ', round(accuracy_score(y_test, y_predicted),4))"
   ]
  },
  {
   "cell_type": "code",
   "execution_count": 39,
   "id": "b9138367",
   "metadata": {},
   "outputs": [
    {
     "name": "stdout",
     "output_type": "stream",
     "text": [
      "Fitting 5 folds for each of 1568 candidates, totalling 7840 fits\n"
     ]
    },
    {
     "data": {
      "text/plain": [
       "RandomForestClassifier(max_depth=2, max_features=1)"
      ]
     },
     "execution_count": 39,
     "metadata": {},
     "output_type": "execute_result"
    }
   ],
   "source": [
    "param_grid_ = {\n",
    "    \"n_estimators\":[50,100,200,300],\n",
    "    \"max_depth\":range(1,50),\n",
    "    \"max_features\":[1,2,3,4],\n",
    "    \"criterion\":['gini','entropy'],\n",
    "}\n",
    "\n",
    "rf = RandomForestClassifier()\n",
    "\n",
    "rf_tuned = GridSearchCV(estimator=rf,\n",
    "                            param_grid=param_grid_,\n",
    "                            cv=5,\n",
    "                            n_jobs=-1,\n",
    "                            verbose=10)\n",
    "\n",
    "rf_tuned.fit(X_train, y_train)\n",
    "rf_tuned.best_estimator_"
   ]
  },
  {
   "cell_type": "code",
   "execution_count": 40,
   "id": "3a4fc1a2",
   "metadata": {},
   "outputs": [
    {
     "data": {
      "text/plain": [
       "array([2, 1, 2, 2, 1, 2, 0, 2, 1, 0, 2, 2, 0, 1, 0, 1, 1, 2, 1, 2, 1, 1,\n",
       "       2, 2, 0, 0, 0, 2, 1, 0, 2, 0, 2, 2, 0, 0, 2, 0, 2, 1, 2, 2, 2, 1,\n",
       "       1])"
      ]
     },
     "execution_count": 40,
     "metadata": {},
     "output_type": "execute_result"
    }
   ],
   "source": [
    "y_predicted_rf=rf_tuned.predict(X_test)\n",
    "y_predicted_rf"
   ]
  },
  {
   "cell_type": "code",
   "execution_count": 41,
   "id": "554873c5",
   "metadata": {},
   "outputs": [
    {
     "data": {
      "text/plain": [
       "0.9523809523809523"
      ]
     },
     "execution_count": 41,
     "metadata": {},
     "output_type": "execute_result"
    }
   ],
   "source": [
    "rf_tuned.best_score_"
   ]
  },
  {
   "cell_type": "code",
   "execution_count": 42,
   "id": "8820e41d",
   "metadata": {},
   "outputs": [
    {
     "data": {
      "text/plain": [
       "array([1, 1, 2, 2, 1, 2, 0, 2, 1, 0, 2, 2, 0, 1, 0, 1, 1, 2, 1, 2, 1, 1,\n",
       "       2, 2, 0, 0, 0, 2, 1, 0, 2, 0, 2, 2, 0, 0, 2, 0, 2, 1, 2, 2, 2, 1,\n",
       "       1])"
      ]
     },
     "execution_count": 42,
     "metadata": {},
     "output_type": "execute_result"
    }
   ],
   "source": [
    "y_test"
   ]
  },
  {
   "cell_type": "code",
   "execution_count": 43,
   "id": "d8e1107c",
   "metadata": {},
   "outputs": [
    {
     "name": "stdout",
     "output_type": "stream",
     "text": [
      "Accuracy:  0.9777777777777777\n"
     ]
    }
   ],
   "source": [
    "print('Accuracy: ', accuracy_score(y_test, y_predicted_rf))"
   ]
  },
  {
   "cell_type": "markdown",
   "id": "0be19a72",
   "metadata": {},
   "source": [
    "## 11. pick top features from random forest again and try to create a model using only those."
   ]
  },
  {
   "cell_type": "code",
   "execution_count": 44,
   "id": "dbe5f4d0",
   "metadata": {},
   "outputs": [],
   "source": [
    "df = pd.DataFrame(data= np.c_[iris['data'], iris['target']],\n",
    "                     columns= iris['feature_names'] + ['target'])"
   ]
  },
  {
   "cell_type": "code",
   "execution_count": 45,
   "id": "73e98bbe",
   "metadata": {},
   "outputs": [
    {
     "data": {
      "text/html": [
       "<div>\n",
       "<style scoped>\n",
       "    .dataframe tbody tr th:only-of-type {\n",
       "        vertical-align: middle;\n",
       "    }\n",
       "\n",
       "    .dataframe tbody tr th {\n",
       "        vertical-align: top;\n",
       "    }\n",
       "\n",
       "    .dataframe thead th {\n",
       "        text-align: right;\n",
       "    }\n",
       "</style>\n",
       "<table border=\"1\" class=\"dataframe\">\n",
       "  <thead>\n",
       "    <tr style=\"text-align: right;\">\n",
       "      <th></th>\n",
       "      <th>sepal length (cm)</th>\n",
       "      <th>sepal width (cm)</th>\n",
       "      <th>petal length (cm)</th>\n",
       "      <th>petal width (cm)</th>\n",
       "      <th>target</th>\n",
       "    </tr>\n",
       "  </thead>\n",
       "  <tbody>\n",
       "    <tr>\n",
       "      <th>0</th>\n",
       "      <td>5.1</td>\n",
       "      <td>3.5</td>\n",
       "      <td>1.4</td>\n",
       "      <td>0.2</td>\n",
       "      <td>0.0</td>\n",
       "    </tr>\n",
       "    <tr>\n",
       "      <th>1</th>\n",
       "      <td>4.9</td>\n",
       "      <td>3.0</td>\n",
       "      <td>1.4</td>\n",
       "      <td>0.2</td>\n",
       "      <td>0.0</td>\n",
       "    </tr>\n",
       "    <tr>\n",
       "      <th>2</th>\n",
       "      <td>4.7</td>\n",
       "      <td>3.2</td>\n",
       "      <td>1.3</td>\n",
       "      <td>0.2</td>\n",
       "      <td>0.0</td>\n",
       "    </tr>\n",
       "    <tr>\n",
       "      <th>3</th>\n",
       "      <td>4.6</td>\n",
       "      <td>3.1</td>\n",
       "      <td>1.5</td>\n",
       "      <td>0.2</td>\n",
       "      <td>0.0</td>\n",
       "    </tr>\n",
       "    <tr>\n",
       "      <th>4</th>\n",
       "      <td>5.0</td>\n",
       "      <td>3.6</td>\n",
       "      <td>1.4</td>\n",
       "      <td>0.2</td>\n",
       "      <td>0.0</td>\n",
       "    </tr>\n",
       "    <tr>\n",
       "      <th>...</th>\n",
       "      <td>...</td>\n",
       "      <td>...</td>\n",
       "      <td>...</td>\n",
       "      <td>...</td>\n",
       "      <td>...</td>\n",
       "    </tr>\n",
       "    <tr>\n",
       "      <th>145</th>\n",
       "      <td>6.7</td>\n",
       "      <td>3.0</td>\n",
       "      <td>5.2</td>\n",
       "      <td>2.3</td>\n",
       "      <td>2.0</td>\n",
       "    </tr>\n",
       "    <tr>\n",
       "      <th>146</th>\n",
       "      <td>6.3</td>\n",
       "      <td>2.5</td>\n",
       "      <td>5.0</td>\n",
       "      <td>1.9</td>\n",
       "      <td>2.0</td>\n",
       "    </tr>\n",
       "    <tr>\n",
       "      <th>147</th>\n",
       "      <td>6.5</td>\n",
       "      <td>3.0</td>\n",
       "      <td>5.2</td>\n",
       "      <td>2.0</td>\n",
       "      <td>2.0</td>\n",
       "    </tr>\n",
       "    <tr>\n",
       "      <th>148</th>\n",
       "      <td>6.2</td>\n",
       "      <td>3.4</td>\n",
       "      <td>5.4</td>\n",
       "      <td>2.3</td>\n",
       "      <td>2.0</td>\n",
       "    </tr>\n",
       "    <tr>\n",
       "      <th>149</th>\n",
       "      <td>5.9</td>\n",
       "      <td>3.0</td>\n",
       "      <td>5.1</td>\n",
       "      <td>1.8</td>\n",
       "      <td>2.0</td>\n",
       "    </tr>\n",
       "  </tbody>\n",
       "</table>\n",
       "<p>150 rows × 5 columns</p>\n",
       "</div>"
      ],
      "text/plain": [
       "     sepal length (cm)  sepal width (cm)  petal length (cm)  petal width (cm)  \\\n",
       "0                  5.1               3.5                1.4               0.2   \n",
       "1                  4.9               3.0                1.4               0.2   \n",
       "2                  4.7               3.2                1.3               0.2   \n",
       "3                  4.6               3.1                1.5               0.2   \n",
       "4                  5.0               3.6                1.4               0.2   \n",
       "..                 ...               ...                ...               ...   \n",
       "145                6.7               3.0                5.2               2.3   \n",
       "146                6.3               2.5                5.0               1.9   \n",
       "147                6.5               3.0                5.2               2.0   \n",
       "148                6.2               3.4                5.4               2.3   \n",
       "149                5.9               3.0                5.1               1.8   \n",
       "\n",
       "     target  \n",
       "0       0.0  \n",
       "1       0.0  \n",
       "2       0.0  \n",
       "3       0.0  \n",
       "4       0.0  \n",
       "..      ...  \n",
       "145     2.0  \n",
       "146     2.0  \n",
       "147     2.0  \n",
       "148     2.0  \n",
       "149     2.0  \n",
       "\n",
       "[150 rows x 5 columns]"
      ]
     },
     "execution_count": 45,
     "metadata": {},
     "output_type": "execute_result"
    }
   ],
   "source": [
    "df"
   ]
  },
  {
   "cell_type": "code",
   "execution_count": 46,
   "id": "736a3a41",
   "metadata": {},
   "outputs": [],
   "source": [
    "X_top = df.drop(['target','sepal width (cm)','sepal length (cm)'],axis=1)\n",
    "y_top = df['target']\n",
    "# Split dataset into training set and test set\n",
    "X_traint, X_testt, y_traint, y_testt = train_test_split(X_top, y_top, test_size=0.3)"
   ]
  },
  {
   "cell_type": "code",
   "execution_count": 47,
   "id": "05ab345f",
   "metadata": {},
   "outputs": [
    {
     "data": {
      "text/html": [
       "<div>\n",
       "<style scoped>\n",
       "    .dataframe tbody tr th:only-of-type {\n",
       "        vertical-align: middle;\n",
       "    }\n",
       "\n",
       "    .dataframe tbody tr th {\n",
       "        vertical-align: top;\n",
       "    }\n",
       "\n",
       "    .dataframe thead th {\n",
       "        text-align: right;\n",
       "    }\n",
       "</style>\n",
       "<table border=\"1\" class=\"dataframe\">\n",
       "  <thead>\n",
       "    <tr style=\"text-align: right;\">\n",
       "      <th></th>\n",
       "      <th>petal length (cm)</th>\n",
       "      <th>petal width (cm)</th>\n",
       "    </tr>\n",
       "  </thead>\n",
       "  <tbody>\n",
       "    <tr>\n",
       "      <th>0</th>\n",
       "      <td>1.4</td>\n",
       "      <td>0.2</td>\n",
       "    </tr>\n",
       "    <tr>\n",
       "      <th>1</th>\n",
       "      <td>1.4</td>\n",
       "      <td>0.2</td>\n",
       "    </tr>\n",
       "    <tr>\n",
       "      <th>2</th>\n",
       "      <td>1.3</td>\n",
       "      <td>0.2</td>\n",
       "    </tr>\n",
       "    <tr>\n",
       "      <th>3</th>\n",
       "      <td>1.5</td>\n",
       "      <td>0.2</td>\n",
       "    </tr>\n",
       "    <tr>\n",
       "      <th>4</th>\n",
       "      <td>1.4</td>\n",
       "      <td>0.2</td>\n",
       "    </tr>\n",
       "    <tr>\n",
       "      <th>...</th>\n",
       "      <td>...</td>\n",
       "      <td>...</td>\n",
       "    </tr>\n",
       "    <tr>\n",
       "      <th>145</th>\n",
       "      <td>5.2</td>\n",
       "      <td>2.3</td>\n",
       "    </tr>\n",
       "    <tr>\n",
       "      <th>146</th>\n",
       "      <td>5.0</td>\n",
       "      <td>1.9</td>\n",
       "    </tr>\n",
       "    <tr>\n",
       "      <th>147</th>\n",
       "      <td>5.2</td>\n",
       "      <td>2.0</td>\n",
       "    </tr>\n",
       "    <tr>\n",
       "      <th>148</th>\n",
       "      <td>5.4</td>\n",
       "      <td>2.3</td>\n",
       "    </tr>\n",
       "    <tr>\n",
       "      <th>149</th>\n",
       "      <td>5.1</td>\n",
       "      <td>1.8</td>\n",
       "    </tr>\n",
       "  </tbody>\n",
       "</table>\n",
       "<p>150 rows × 2 columns</p>\n",
       "</div>"
      ],
      "text/plain": [
       "     petal length (cm)  petal width (cm)\n",
       "0                  1.4               0.2\n",
       "1                  1.4               0.2\n",
       "2                  1.3               0.2\n",
       "3                  1.5               0.2\n",
       "4                  1.4               0.2\n",
       "..                 ...               ...\n",
       "145                5.2               2.3\n",
       "146                5.0               1.9\n",
       "147                5.2               2.0\n",
       "148                5.4               2.3\n",
       "149                5.1               1.8\n",
       "\n",
       "[150 rows x 2 columns]"
      ]
     },
     "execution_count": 47,
     "metadata": {},
     "output_type": "execute_result"
    }
   ],
   "source": [
    "X_top"
   ]
  },
  {
   "cell_type": "code",
   "execution_count": 48,
   "id": "44b25e8e",
   "metadata": {},
   "outputs": [
    {
     "data": {
      "text/plain": [
       "RandomForestClassifier(max_depth=10)"
      ]
     },
     "execution_count": 48,
     "metadata": {},
     "output_type": "execute_result"
    }
   ],
   "source": [
    "modelt=RandomForestClassifier(criterion='gini', max_depth= 10)\n",
    "modelt.fit(X_traint,y_traint)"
   ]
  },
  {
   "cell_type": "code",
   "execution_count": 49,
   "id": "e3ebcab5",
   "metadata": {},
   "outputs": [
    {
     "name": "stdout",
     "output_type": "stream",
     "text": [
      "Accuracy:  0.9556\n"
     ]
    }
   ],
   "source": [
    "y_predictedt=modelt.predict(X_testt)\n",
    "print('Accuracy: ', round(accuracy_score(y_testt, y_predictedt),4))"
   ]
  },
  {
   "cell_type": "markdown",
   "id": "772abb61",
   "metadata": {},
   "source": [
    "#### Reference\n",
    "https://krishnaik.in/2022/03/02/important-interview-questions-on-decision-tree-machine-learning-algorithm/\n",
    "\n",
    "\n",
    "https://ai.plainenglish.io/hyperparameter-tuning-of-decision-tree-classifier-using-gridsearchcv-2a6ebcaffeda\n",
    "\n"
   ]
  }
 ],
 "metadata": {
  "kernelspec": {
   "display_name": "Python 3",
   "language": "python",
   "name": "python3"
  },
  "language_info": {
   "codemirror_mode": {
    "name": "ipython",
    "version": 3
   },
   "file_extension": ".py",
   "mimetype": "text/x-python",
   "name": "python",
   "nbconvert_exporter": "python",
   "pygments_lexer": "ipython3",
   "version": "3.8.2"
  }
 },
 "nbformat": 4,
 "nbformat_minor": 5
}
