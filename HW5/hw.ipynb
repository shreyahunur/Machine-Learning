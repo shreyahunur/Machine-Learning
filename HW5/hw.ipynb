{
 "cells": [
  {
   "cell_type": "markdown",
   "id": "a32301db",
   "metadata": {
    "id": "a32301db"
   },
   "source": [
    "# Neural Networks"
   ]
  },
  {
   "cell_type": "markdown",
   "id": "f3e3b67f",
   "metadata": {
    "id": "f3e3b67f"
   },
   "source": [
    "## 1. What are Neurons?"
   ]
  },
  {
   "cell_type": "markdown",
   "id": "fcd709f0",
   "metadata": {
    "id": "fcd709f0"
   },
   "source": [
    "Neurons are the building blocks of the nervous system. They receive and transmit signals to different parts of the body. This is carried out in both physical and electrical forms. There are several different types of neurons that facilitate the transmission of information.\n"
   ]
  },
  {
   "cell_type": "code",
   "execution_count": null,
   "id": "7b39c3a7",
   "metadata": {
    "colab": {
     "base_uri": "https://localhost:8080/",
     "height": 34
    },
    "id": "7b39c3a7",
    "outputId": "2f0615cc-bb4b-42fd-ac9f-cec4a7669f47"
   },
   "outputs": [],
   "source": [
    "from IPython.display import Image\n",
    "Image(\"image.png\",width=\"500\")"
   ]
  },
  {
   "cell_type": "markdown",
   "id": "bd8e8f04",
   "metadata": {
    "id": "bd8e8f04"
   },
   "source": [
    "## 2. Explain the architecture of a neural network"
   ]
  },
  {
   "cell_type": "code",
   "execution_count": null,
   "id": "0be8f7d0",
   "metadata": {
    "colab": {
     "base_uri": "https://localhost:8080/",
     "height": 34
    },
    "id": "0be8f7d0",
    "outputId": "09ea14b9-7ca4-4e99-b2b7-819a214ee528"
   },
   "outputs": [],
   "source": [
    "Image(\"1.png\",width=\"500\")"
   ]
  },
  {
   "cell_type": "markdown",
   "id": "301ab9c2",
   "metadata": {
    "id": "301ab9c2"
   },
   "source": [
    "A neuron is the basic unit of a neural network. \n",
    "\n",
    "The outermost yellow layer is the input layer.\n",
    "\n",
    "They receive input from an external source or other nodes. Each node is connected with another node from the next layer, and each such connection has a particular weight. Weights are assigned to a neuron based on its relative importance against other inputs.\n",
    "\n",
    "When all the node values from the yellow layer are multiplied (along with their weight) and summarized, it generates a value for the first hidden layer. Based on the summarized value, the blue layer has a predefined “activation” function that determines whether or not this node will be “activated” and how “active” it will be.\n",
    "\n",
    "The layer or layers hidden between the input and output layer is known as the hidden layer. It is called the hidden layer since it is always hidden from the external world. The main computation of a Neural Network takes place in the hidden layers. So, the hidden layer takes all the inputs from the input layer and performs the necessary calculation to generate a result. \n",
    "\n",
    "This result is then forwarded to the output layer so that the user can view the result of the computation."
   ]
  },
  {
   "cell_type": "markdown",
   "id": "599b6f46",
   "metadata": {
    "id": "599b6f46"
   },
   "source": [
    "## 3. How many parameters are there in a neural network with 4 hidden layers having 30,25,20,15 neurons each and the input and output layer having 50 and 1 neuron respectively"
   ]
  },
  {
   "cell_type": "markdown",
   "id": "12acaf5d",
   "metadata": {
    "id": "12acaf5d"
   },
   "source": [
    "Input = 50 <br>\n",
    "Layer1 = 30 <br>\n",
    "Layer2 = 25 <br>\n",
    "Layer3 = 20 <br>\n",
    "Layer4 = 15 <br>\n",
    "Output = 1 <br>\n",
    "\n",
    "Parameter calculation: \n",
    "\n",
    "For the weights:\n",
    "50 x 30 + 30 x 25 + 25 x 20 + 20 x 15 + 15 x 1 = 3065\n",
    "\n",
    "For the bias components:\n",
    "30 + 25 + 20 + 15 + 1 = 91\n",
    "\n",
    "The amount of parameters in this neural network is 3156."
   ]
  },
  {
   "cell_type": "code",
   "execution_count": null,
   "id": "7c0c44f5",
   "metadata": {
    "id": "7c0c44f5"
   },
   "outputs": [],
   "source": [
    "def total_param(l=[]):\n",
    "    s=0\n",
    "    for i in range(len(l)-1):\n",
    "        s=s+l[i]*l[i+1]+l[i+1]\n",
    "    return s"
   ]
  },
  {
   "cell_type": "code",
   "execution_count": null,
   "id": "09f4bdd9",
   "metadata": {
    "colab": {
     "base_uri": "https://localhost:8080/"
    },
    "id": "09f4bdd9",
    "outputId": "a0d37859-7d53-4f93-94e5-6cda5269eca8"
   },
   "outputs": [],
   "source": [
    "total_param([50,30,25,20,15,1]) "
   ]
  },
  {
   "cell_type": "markdown",
   "id": "36ea5362",
   "metadata": {
    "id": "36ea5362"
   },
   "source": [
    "## 4. Explain gradient descent"
   ]
  },
  {
   "cell_type": "markdown",
   "id": "ec7e3559",
   "metadata": {
    "id": "ec7e3559"
   },
   "source": [
    "Gradient Descent is a process that occurs in the backpropagation phase where the goal is to continuously resample the gradient of the model’s parameter in the opposite direction based on the weight w, updating consistently until we reach the global minimum of function J(w)."
   ]
  },
  {
   "cell_type": "code",
   "execution_count": null,
   "id": "c25bdec2",
   "metadata": {},
   "outputs": [],
   "source": [
    "Image(\"2.png\",width=\"500\")"
   ]
  },
  {
   "cell_type": "markdown",
   "id": "fQyiH3KB1aC3",
   "metadata": {
    "id": "fQyiH3KB1aC3"
   },
   "source": [
    "The gradient descent process is exhibited in the form of the backpropagation step where we compute the error vectors δ backward, starting from the final layer. Depending upon the activation function, we identify how much change is required by much change is required by taking the partial derivative of the function with respect to w. The change value gets multiplied by the learning rate. As part of the output, we subtract this value from the previous output to get the updated value. We continue this till we reach convergence."
   ]
  },
  {
   "cell_type": "code",
   "execution_count": null,
   "id": "1235b61c",
   "metadata": {},
   "outputs": [],
   "source": [
    "Image(\"3.png\",width=\"500\")"
   ]
  },
  {
   "cell_type": "markdown",
   "id": "Iv300pp01zkQ",
   "metadata": {
    "id": "Iv300pp01zkQ"
   },
   "source": [
    "There are a number of gradient descent algorithms:\n",
    "Batch Gradient Descent\n",
    "Stochastic Gradient Descent\n",
    "Mini-batch Gradient Descent"
   ]
  },
  {
   "cell_type": "markdown",
   "id": "jLn-gJcE10P0",
   "metadata": {
    "id": "jLn-gJcE10P0"
   },
   "source": [
    "Exploding & Vanishing Gradients\n",
    "In deep networks or recurrent neural networks, there are two known issues explained in a paper by Pascanu et al (1994) — of exploding and vanishing gradients. This happens when are doing back propagation as we iterate through the code, there is a chance that the normal of the weight matrices going beyond 1. If this happens, the gradient explodes but if the normal is below 1, the gradient vanishes.\n",
    "\n",
    "If we want to visualize exploding gradients, you will encounter at least one of the problems:\n",
    "1. The model will output ‘Nan’ values\n",
    "2. The model will display very large changes upon each step\n",
    "3. The error gradient values are consistently above 1.0 for each node in the training layer.\n",
    "\n",
    "\n",
    "Solution: Gradient Clipping\n",
    "\n",
    "The solution to the exploding and vanishing gradient problem, we introduce gradient clipping, where we ‘clip’ the gradients if it goes over a certain threshold represented by a maximum absolute value. Hence, we keep the neural network stable as the weight values never reach the point that it returns a ‘Nan’. In a coded implementation removing the clipped gradients leads to ‘Nan’ values or infinite in the losses and fails to run further."
   ]
  },
  {
   "cell_type": "markdown",
   "id": "b0708c8e",
   "metadata": {
    "id": "b0708c8e"
   },
   "source": [
    "## 5. What is categorical cross entropy"
   ]
  },
  {
   "cell_type": "markdown",
   "id": "NY_kSPfl3KN3",
   "metadata": {
    "id": "NY_kSPfl3KN3"
   },
   "source": [
    "It is the default loss function to use for multi-class classification problems where each class is assigned a unique integer value from 0 to (num_classes – 1). \n",
    "\n",
    "It will calculate the average difference between the actual and predicted probability distributions for all classes in the problem. The score is minimized and a perfect cross-entropy value is 0."
   ]
  },
  {
   "cell_type": "code",
   "execution_count": null,
   "id": "1e416d56",
   "metadata": {},
   "outputs": [],
   "source": [
    "Image(\"4.png\",width=\"300\")"
   ]
  },
  {
   "cell_type": "markdown",
   "id": "FhmJ6-4L3LJF",
   "metadata": {
    "id": "FhmJ6-4L3LJF"
   },
   "source": [
    "The target need to be one-hot encoded this makes them directly appropriate to use with the categorical cross-entropy loss function.\n",
    "\n",
    "The output layer is configured with n nodes (one for each class), for example in MNIST case, 10 nodes, and a “softmax” activation in order to predict the probability for each class."
   ]
  },
  {
   "cell_type": "markdown",
   "id": "903d176f",
   "metadata": {
    "id": "903d176f"
   },
   "source": [
    "## 6. Explain in short the following terms: Relu, Sigmoid, softmax"
   ]
  },
  {
   "cell_type": "markdown",
   "id": "46d7c791",
   "metadata": {},
   "source": [
    "#### ReLU\n",
    "It stands for Rectified Linear Units.<br>\n",
    "The formula: 𝑚𝑎𝑥(0,𝑧). <br>\n",
    "Despite its name and appearance, it’s not linear and provides the same benefits as Sigmoid (i.e. the ability to learn nonlinear functions), but with better performance.\n",
    "\n",
    "##### Pros :\n",
    "\n",
    "1. It avoids and rectifies vanishing gradient problem.\n",
    "2. ReLu is less computationally expensive than tanh and sigmoid because it involves simpler mathematical operations.\n",
    "\n",
    "##### Cons :\n",
    "\n",
    "1. One of its limitations is that it should only be used within hidden layers of a neural network model.\n",
    "2. Some gradients can be fragile during training and can die. It can cause a weight update which will makes it never activate on any data point again. In other words, ReLu can result in dead neurons.\n",
    "3. In another words, For activations in the region (x<0) of ReLu, gradient will be 0 because of which the weights will not get adjusted during descent. That means, those neurons which go into that state will stop responding to variations in error/ input (simply because gradient is 0, nothing changes). This is called the dying ReLu problem.\n",
    "4. The range of ReLu is [0,∞). This means it can blow up the activation.\n"
   ]
  },
  {
   "attachments": {
    "image.png": {
     "image/png": "[encoded data removed]"
    }
   },
   "cell_type": "markdown",
   "id": "67249280",
   "metadata": {},
   "source": [
    "![image.png](attachment:image.png)"
   ]
  },
  {
   "cell_type": "markdown",
   "id": "3935eaea",
   "metadata": {},
   "source": [
    "#### Sigmoid\n",
    "Sigmoid takes a real value as input and outputs another value between 0 and 1. It’s easy to work with and has all the nice properties of activation functions: it’s non-linear, continuously differentiable, monotonic, and has a fixed output range.\n",
    "\n",
    "##### Pros : \n",
    "\n",
    "1. It is nonlinear in nature. Combinations of this function are also nonlinear!\n",
    "2. It will give an analog activation unlike step function.\n",
    "3. It has a smooth gradient too.\n",
    "4. It’s good for a classifier.\n",
    "5. The output of the activation function is always going to be in range (0,1) compared to (-inf, inf) of linear function. So we have our activations bound in a range. Nice, it won’t blow up the activations then.\n",
    "\n",
    "##### Cons :\n",
    "\n",
    "1. Towards either end of the sigmoid function, the Y values tend to respond very less to changes in X.\n",
    "2. It gives rise to a problem of “vanishing gradients”.\n",
    "3. Its output isn’t zero centered. It makes the gradient updates go too far in different directions. 0 < output < 1, and it makes optimization harder.\n",
    "4. Sigmoids saturate and kill gradients.\n",
    "5. The network refuses to learn further or is drastically slow ( depending on use case and until gradient /computation gets hit by floating point value limits ).\n"
   ]
  },
  {
   "attachments": {
    "image.png": {
     "image/png": "[encoded data removed]"
    }
   },
   "cell_type": "markdown",
   "id": "908c46a0",
   "metadata": {},
   "source": [
    "![image.png](attachment:image.png)"
   ]
  },
  {
   "cell_type": "markdown",
   "id": "0c17c33d",
   "metadata": {},
   "source": [
    "#### Softmax\n",
    "Softmax function calculates the probabilities distribution of the event over ‘n’ different events. In general way of saying, this function will calculate the probabilities of each target class over all possible target classes. Later the calculated probabilities will be helpful for determining the target class for the given inputs.\n",
    "\n",
    "##### Pros: \n",
    "The main advantage of using Softmax is the output probabilities range. The range will 0 to 1, and the sum of all the probabilities will be equal to one. If the softmax function used for multi-classification model it returns the probabilities of each class and the target class will have the high probability."
   ]
  },
  {
   "cell_type": "markdown",
   "id": "9b0d7108",
   "metadata": {
    "id": "9b0d7108"
   },
   "source": [
    "## 7. Load the mnist dataset"
   ]
  },
  {
   "cell_type": "code",
   "execution_count": null,
   "id": "d4862940",
   "metadata": {
    "id": "d4862940"
   },
   "outputs": [],
   "source": [
    "# Importing required libraries\n",
    "import pandas as pd\n",
    "import numpy as np\n",
    "import matplotlib.pyplot as plt\n",
    "import seaborn as sns\n",
    "from sklearn.preprocessing import StandardScaler\n",
    "from sklearn.model_selection import train_test_split\n",
    "from sklearn.metrics import confusion_matrix\n"
   ]
  },
  {
   "cell_type": "code",
   "execution_count": null,
   "id": "ad1169d6",
   "metadata": {
    "id": "ad1169d6"
   },
   "outputs": [],
   "source": [
    "import keras\n",
    "import tensorflow as tf"
   ]
  },
  {
   "cell_type": "code",
   "execution_count": null,
   "id": "2222df29",
   "metadata": {},
   "outputs": [],
   "source": [
    "!pip3 uninstall tensorflow \n"
   ]
  },
  {
   "cell_type": "code",
   "execution_count": null,
   "id": "219ec95f",
   "metadata": {},
   "outputs": [],
   "source": [
    "!pip3 install tensorflow==1.5"
   ]
  },
  {
   "cell_type": "code",
   "execution_count": null,
   "id": "0ac4f914",
   "metadata": {
    "id": "0ac4f914"
   },
   "outputs": [],
   "source": [
    "from keras.models import Sequential \n",
    "from keras.layers import Dense, Dropout, Flatten\n",
    "from keras.datasets import mnist"
   ]
  },
  {
   "cell_type": "code",
   "execution_count": null,
   "id": "e7a2b076",
   "metadata": {
    "id": "e7a2b076"
   },
   "outputs": [],
   "source": [
    "(X_train, y_train), (X_test, y_test) = mnist.load_data()"
   ]
  },
  {
   "cell_type": "markdown",
   "id": "f9646ce5",
   "metadata": {
    "id": "f9646ce5"
   },
   "source": [
    "## 8. plot some sample images"
   ]
  },
  {
   "cell_type": "code",
   "execution_count": null,
   "id": "23a80c55",
   "metadata": {
    "colab": {
     "base_uri": "https://localhost:8080/",
     "height": 268
    },
    "id": "23a80c55",
    "outputId": "5b0391c8-99a8-4c07-caf8-32b474e5ebeb"
   },
   "outputs": [],
   "source": [
    "import matplotlib.pyplot as plt\n",
    "%matplotlib inline\n",
    "plt.subplot(221)\n",
    "plt.imshow(X_train[0], cmap=plt.get_cmap('gray'))\n",
    "plt.grid('off')\n",
    "plt.subplot(222)\n",
    "plt.imshow(X_train[1], cmap=plt.get_cmap('gray'))\n",
    "plt.grid('off')\n",
    "plt.subplot(223)\n",
    "plt.imshow(X_train[2], cmap=plt.get_cmap('gray'))\n",
    "plt.grid('off')\n",
    "plt.subplot(224)\n",
    "plt.imshow(X_train[3], cmap=plt.get_cmap('gray'))\n",
    "plt.grid('off')\n",
    "plt.show()"
   ]
  },
  {
   "cell_type": "markdown",
   "id": "e4157808",
   "metadata": {
    "id": "e4157808"
   },
   "source": [
    "## 9. pre process the target variable to make it binary"
   ]
  },
  {
   "cell_type": "code",
   "execution_count": null,
   "id": "4a4fa64e",
   "metadata": {
    "id": "4a4fa64e"
   },
   "outputs": [],
   "source": [
    "num_classes = 10\n",
    "y_train = tf.keras.utils.to_categorical(y_train, num_classes)\n",
    "y_test = tf.keras.utils.to_categorical(y_test, num_classes)"
   ]
  },
  {
   "cell_type": "markdown",
   "id": "a228c3dc",
   "metadata": {
    "id": "a228c3dc"
   },
   "source": [
    "## 10. construct a neural network"
   ]
  },
  {
   "cell_type": "code",
   "execution_count": null,
   "id": "02b6f08a",
   "metadata": {
    "id": "02b6f08a"
   },
   "outputs": [],
   "source": [
    "image_size = 784\n",
    "num_classes = 10\n",
    "nn_model = Sequential()"
   ]
  },
  {
   "cell_type": "code",
   "execution_count": null,
   "id": "8fbec75e",
   "metadata": {
    "id": "8fbec75e"
   },
   "outputs": [],
   "source": [
    "nn_model.add(Flatten(input_shape=(28,28)))\n",
    "nn_model.add(Dense(units=10, activation='sigmoid'))\n",
    "nn_model.add(Dense(units=num_classes, activation='softmax'))\n",
    "nn_model.compile(optimizer=\"sgd\", loss='categorical_crossentropy', metrics=['accuracy'])\n"
   ]
  },
  {
   "cell_type": "markdown",
   "id": "cc51fea4",
   "metadata": {
    "id": "cc51fea4"
   },
   "source": [
    "## 11. plot the network (visualise/summarise)"
   ]
  },
  {
   "cell_type": "code",
   "execution_count": null,
   "id": "f48ed1a3",
   "metadata": {
    "colab": {
     "base_uri": "https://localhost:8080/"
    },
    "id": "f48ed1a3",
    "outputId": "32847a0c-505b-440c-9eb2-8f0cfed8b42e"
   },
   "outputs": [],
   "source": [
    "nn_model.summary()"
   ]
  },
  {
   "cell_type": "markdown",
   "id": "aae59b84",
   "metadata": {
    "id": "aae59b84"
   },
   "source": [
    "# 12. train the network"
   ]
  },
  {
   "cell_type": "code",
   "execution_count": null,
   "id": "81cd098a",
   "metadata": {
    "colab": {
     "base_uri": "https://localhost:8080/"
    },
    "id": "81cd098a",
    "outputId": "d9c37041-ed49-4887-d306-29b4cd472e99"
   },
   "outputs": [],
   "source": [
    "nn_model.fit(X_train, y_train, epochs=5, batch_size=128, validation_split=.15, verbose=False)\n"
   ]
  },
  {
   "cell_type": "code",
   "execution_count": null,
   "id": "09728223",
   "metadata": {
    "id": "09728223"
   },
   "outputs": [],
   "source": [
    "pred = nn_model.predict(X_test)"
   ]
  },
  {
   "cell_type": "code",
   "execution_count": null,
   "id": "ddc6ed52",
   "metadata": {
    "colab": {
     "base_uri": "https://localhost:8080/"
    },
    "id": "ddc6ed52",
    "outputId": "758d73cb-0f77-46d7-9cd9-09e24468ef09"
   },
   "outputs": [],
   "source": [
    "loss, accuracy  = nn_model.evaluate(X_test, y_test, verbose=False)\n",
    "print('loss: ', loss)\n",
    "print('accuracy: ', accuracy)"
   ]
  },
  {
   "cell_type": "markdown",
   "id": "a1e0f913",
   "metadata": {
    "id": "a1e0f913"
   },
   "source": [
    "## 13. plot epoch vs accuracy curve"
   ]
  },
  {
   "cell_type": "code",
   "execution_count": null,
   "id": "48d82c98",
   "metadata": {},
   "outputs": [],
   "source": [
    "# import keras\n",
    "# from matplotlib import pyplot as plt\n",
    "# history = model1.fit(train_x, train_y,validation_split = 0.1, epochs=50, batch_size=4)\n",
    "# plt.plot(history.history['acc'])\n",
    "# plt.plot(history.history['val_acc'])\n",
    "# plt.title('model accuracy')\n",
    "# plt.ylabel('accuracy')\n",
    "# plt.xlabel('epoch')\n",
    "# plt.legend(['train', 'val'], loc='upper left')\n",
    "# plt.show()"
   ]
  },
  {
   "cell_type": "markdown",
   "id": "b61ea7e8",
   "metadata": {
    "id": "b61ea7e8"
   },
   "source": [
    "## 14. print the results"
   ]
  },
  {
   "cell_type": "code",
   "execution_count": null,
   "id": "6efc5a54",
   "metadata": {},
   "outputs": [],
   "source": []
  },
  {
   "cell_type": "markdown",
   "id": "d88047fb",
   "metadata": {},
   "source": [
    "References: \n",
    "\n",
    "https://towardsdatascience.com/gradient-descent-3a7db7520711\n",
    "\n",
    "https://androidkt.com/choose-cross-entropy-loss-function-in-keras/\n",
    "\n",
    "https://ml-cheatsheet.readthedocs.io/en/latest/activation_functions.html\n",
    "\n",
    "https://towardsdatascience.com/activation-functions-neural-networks-1cbd9f8d91d6\n",
    "\n",
    "https://medium.com/yottabytes/everything-you-need-to-know-about-gradient-descent-applied-to-neural-networks-d70f85e0cc14"
   ]
  }
 ],
 "metadata": {
  "colab": {
   "collapsed_sections": [],
   "name": "HW 5 SP22.ipynb",
   "provenance": []
  },
  "kernelspec": {
   "display_name": "Python 3",
   "language": "python",
   "name": "python3"
  },
  "language_info": {
   "codemirror_mode": {
    "name": "ipython",
    "version": 3
   },
   "file_extension": ".py",
   "mimetype": "text/x-python",
   "name": "python",
   "nbconvert_exporter": "python",
   "pygments_lexer": "ipython3",
   "version": "3.8.8"
  }
 },
 "nbformat": 4,
 "nbformat_minor": 5
}
