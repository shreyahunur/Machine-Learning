{
  "cells": [
    {
      "cell_type": "code",
      "source": [
        "# importing required libraries\n",
        "import numpy as np\n",
        "import pandas as pd\n",
        "import matplotlib.pyplot as plt\n",
        "import tensorflow\n",
        "import tensorflow.keras\n",
        "from tensorflow.keras.datasets import fashion_mnist\n",
        "from tensorflow.keras.utils import to_categorical\n",
        "from tensorflow.keras.models import Sequential, Model\n",
        "from tensorflow.keras.layers import Dense, Dropout, Flatten, Conv2D, MaxPooling2D, BatchNormalization, LeakyReLU\n",
        "from sklearn.model_selection import train_test_split"
      ],
      "metadata": {
        "id": "RJiRMgPnUrJ6"
      },
      "id": "RJiRMgPnUrJ6",
      "execution_count": 3,
      "outputs": []
    },
    {
      "cell_type": "code",
      "source": [
        "pip install keras-tuner"
      ],
      "metadata": {
        "colab": {
          "base_uri": "https://localhost:8080/"
        },
        "id": "IMXU_7yQzIH_",
        "outputId": "c029d081-138a-4cac-d718-fce4c76f735f"
      },
      "id": "IMXU_7yQzIH_",
      "execution_count": 2,
      "outputs": [
        {
          "output_type": "stream",
          "name": "stdout",
          "text": [
            "Collecting keras-tuner\n",
            "  Downloading keras_tuner-1.1.2-py3-none-any.whl (133 kB)\n",
            "\u001b[?25l\r\u001b[K     |██▌                             | 10 kB 31.2 MB/s eta 0:00:01\r\u001b[K     |█████                           | 20 kB 38.3 MB/s eta 0:00:01\r\u001b[K     |███████▍                        | 30 kB 40.5 MB/s eta 0:00:01\r\u001b[K     |█████████▉                      | 40 kB 44.2 MB/s eta 0:00:01\r\u001b[K     |████████████▎                   | 51 kB 19.0 MB/s eta 0:00:01\r\u001b[K     |██████████████▊                 | 61 kB 21.3 MB/s eta 0:00:01\r\u001b[K     |█████████████████▏              | 71 kB 22.7 MB/s eta 0:00:01\r\u001b[K     |███████████████████▋            | 81 kB 23.9 MB/s eta 0:00:01\r\u001b[K     |██████████████████████          | 92 kB 24.7 MB/s eta 0:00:01\r\u001b[K     |████████████████████████▌       | 102 kB 24.6 MB/s eta 0:00:01\r\u001b[K     |███████████████████████████     | 112 kB 24.6 MB/s eta 0:00:01\r\u001b[K     |█████████████████████████████▍  | 122 kB 24.6 MB/s eta 0:00:01\r\u001b[K     |███████████████████████████████▉| 133 kB 24.6 MB/s eta 0:00:01\r\u001b[K     |████████████████████████████████| 133 kB 24.6 MB/s \n",
            "\u001b[?25hRequirement already satisfied: numpy in /usr/local/lib/python3.7/dist-packages (from keras-tuner) (1.21.6)\n",
            "Requirement already satisfied: packaging in /usr/local/lib/python3.7/dist-packages (from keras-tuner) (21.3)\n",
            "Requirement already satisfied: ipython in /usr/local/lib/python3.7/dist-packages (from keras-tuner) (5.5.0)\n",
            "Requirement already satisfied: tensorboard in /usr/local/lib/python3.7/dist-packages (from keras-tuner) (2.8.0)\n",
            "Requirement already satisfied: requests in /usr/local/lib/python3.7/dist-packages (from keras-tuner) (2.23.0)\n",
            "Collecting kt-legacy\n",
            "  Downloading kt_legacy-1.0.4-py3-none-any.whl (9.6 kB)\n",
            "Requirement already satisfied: decorator in /usr/local/lib/python3.7/dist-packages (from ipython->keras-tuner) (4.4.2)\n",
            "Requirement already satisfied: prompt-toolkit<2.0.0,>=1.0.4 in /usr/local/lib/python3.7/dist-packages (from ipython->keras-tuner) (1.0.18)\n",
            "Requirement already satisfied: traitlets>=4.2 in /usr/local/lib/python3.7/dist-packages (from ipython->keras-tuner) (5.1.1)\n",
            "Requirement already satisfied: simplegeneric>0.8 in /usr/local/lib/python3.7/dist-packages (from ipython->keras-tuner) (0.8.1)\n",
            "Requirement already satisfied: pygments in /usr/local/lib/python3.7/dist-packages (from ipython->keras-tuner) (2.6.1)\n",
            "Requirement already satisfied: pexpect in /usr/local/lib/python3.7/dist-packages (from ipython->keras-tuner) (4.8.0)\n",
            "Requirement already satisfied: pickleshare in /usr/local/lib/python3.7/dist-packages (from ipython->keras-tuner) (0.7.5)\n",
            "Requirement already satisfied: setuptools>=18.5 in /usr/local/lib/python3.7/dist-packages (from ipython->keras-tuner) (57.4.0)\n",
            "Requirement already satisfied: six>=1.9.0 in /usr/local/lib/python3.7/dist-packages (from prompt-toolkit<2.0.0,>=1.0.4->ipython->keras-tuner) (1.15.0)\n",
            "Requirement already satisfied: wcwidth in /usr/local/lib/python3.7/dist-packages (from prompt-toolkit<2.0.0,>=1.0.4->ipython->keras-tuner) (0.2.5)\n",
            "Requirement already satisfied: pyparsing!=3.0.5,>=2.0.2 in /usr/local/lib/python3.7/dist-packages (from packaging->keras-tuner) (3.0.8)\n",
            "Requirement already satisfied: ptyprocess>=0.5 in /usr/local/lib/python3.7/dist-packages (from pexpect->ipython->keras-tuner) (0.7.0)\n",
            "Requirement already satisfied: idna<3,>=2.5 in /usr/local/lib/python3.7/dist-packages (from requests->keras-tuner) (2.10)\n",
            "Requirement already satisfied: chardet<4,>=3.0.2 in /usr/local/lib/python3.7/dist-packages (from requests->keras-tuner) (3.0.4)\n",
            "Requirement already satisfied: urllib3!=1.25.0,!=1.25.1,<1.26,>=1.21.1 in /usr/local/lib/python3.7/dist-packages (from requests->keras-tuner) (1.24.3)\n",
            "Requirement already satisfied: certifi>=2017.4.17 in /usr/local/lib/python3.7/dist-packages (from requests->keras-tuner) (2021.10.8)\n",
            "Requirement already satisfied: grpcio>=1.24.3 in /usr/local/lib/python3.7/dist-packages (from tensorboard->keras-tuner) (1.44.0)\n",
            "Requirement already satisfied: protobuf>=3.6.0 in /usr/local/lib/python3.7/dist-packages (from tensorboard->keras-tuner) (3.17.3)\n",
            "Requirement already satisfied: markdown>=2.6.8 in /usr/local/lib/python3.7/dist-packages (from tensorboard->keras-tuner) (3.3.6)\n",
            "Requirement already satisfied: tensorboard-data-server<0.7.0,>=0.6.0 in /usr/local/lib/python3.7/dist-packages (from tensorboard->keras-tuner) (0.6.1)\n",
            "Requirement already satisfied: tensorboard-plugin-wit>=1.6.0 in /usr/local/lib/python3.7/dist-packages (from tensorboard->keras-tuner) (1.8.1)\n",
            "Requirement already satisfied: google-auth-oauthlib<0.5,>=0.4.1 in /usr/local/lib/python3.7/dist-packages (from tensorboard->keras-tuner) (0.4.6)\n",
            "Requirement already satisfied: werkzeug>=0.11.15 in /usr/local/lib/python3.7/dist-packages (from tensorboard->keras-tuner) (1.0.1)\n",
            "Requirement already satisfied: absl-py>=0.4 in /usr/local/lib/python3.7/dist-packages (from tensorboard->keras-tuner) (1.0.0)\n",
            "Requirement already satisfied: wheel>=0.26 in /usr/local/lib/python3.7/dist-packages (from tensorboard->keras-tuner) (0.37.1)\n",
            "Requirement already satisfied: google-auth<3,>=1.6.3 in /usr/local/lib/python3.7/dist-packages (from tensorboard->keras-tuner) (1.35.0)\n",
            "Requirement already satisfied: rsa<5,>=3.1.4 in /usr/local/lib/python3.7/dist-packages (from google-auth<3,>=1.6.3->tensorboard->keras-tuner) (4.8)\n",
            "Requirement already satisfied: pyasn1-modules>=0.2.1 in /usr/local/lib/python3.7/dist-packages (from google-auth<3,>=1.6.3->tensorboard->keras-tuner) (0.2.8)\n",
            "Requirement already satisfied: cachetools<5.0,>=2.0.0 in /usr/local/lib/python3.7/dist-packages (from google-auth<3,>=1.6.3->tensorboard->keras-tuner) (4.2.4)\n",
            "Requirement already satisfied: requests-oauthlib>=0.7.0 in /usr/local/lib/python3.7/dist-packages (from google-auth-oauthlib<0.5,>=0.4.1->tensorboard->keras-tuner) (1.3.1)\n",
            "Requirement already satisfied: importlib-metadata>=4.4 in /usr/local/lib/python3.7/dist-packages (from markdown>=2.6.8->tensorboard->keras-tuner) (4.11.3)\n",
            "Requirement already satisfied: zipp>=0.5 in /usr/local/lib/python3.7/dist-packages (from importlib-metadata>=4.4->markdown>=2.6.8->tensorboard->keras-tuner) (3.8.0)\n",
            "Requirement already satisfied: typing-extensions>=3.6.4 in /usr/local/lib/python3.7/dist-packages (from importlib-metadata>=4.4->markdown>=2.6.8->tensorboard->keras-tuner) (4.2.0)\n",
            "Requirement already satisfied: pyasn1<0.5.0,>=0.4.6 in /usr/local/lib/python3.7/dist-packages (from pyasn1-modules>=0.2.1->google-auth<3,>=1.6.3->tensorboard->keras-tuner) (0.4.8)\n",
            "Requirement already satisfied: oauthlib>=3.0.0 in /usr/local/lib/python3.7/dist-packages (from requests-oauthlib>=0.7.0->google-auth-oauthlib<0.5,>=0.4.1->tensorboard->keras-tuner) (3.2.0)\n",
            "Installing collected packages: kt-legacy, keras-tuner\n",
            "Successfully installed keras-tuner-1.1.2 kt-legacy-1.0.4\n"
          ]
        }
      ]
    },
    {
      "cell_type": "code",
      "execution_count": 3,
      "id": "ea83c3d8",
      "metadata": {
        "id": "ea83c3d8",
        "colab": {
          "base_uri": "https://localhost:8080/"
        },
        "outputId": "b893398a-e363-4bc4-b30b-1f73029a0f20"
      },
      "outputs": [
        {
          "output_type": "stream",
          "name": "stderr",
          "text": [
            "/usr/local/lib/python3.7/dist-packages/ipykernel_launcher.py:1: DeprecationWarning: `import kerastuner` is deprecated, please use `import keras_tuner`.\n",
            "  \"\"\"Entry point for launching an IPython kernel.\n"
          ]
        }
      ],
      "source": [
        "from kerastuner import RandomSearch\n",
        "from kerastuner.engine.hyperparameters import HyperParameters"
      ]
    },
    {
      "cell_type": "code",
      "execution_count": 4,
      "id": "76b580e5",
      "metadata": {
        "colab": {
          "base_uri": "https://localhost:8080/"
        },
        "id": "76b580e5",
        "outputId": "997916f4-cbc8-4621-b2f1-d682b29fd16b"
      },
      "outputs": [
        {
          "output_type": "stream",
          "name": "stdout",
          "text": [
            "Downloading data from https://storage.googleapis.com/tensorflow/tf-keras-datasets/train-labels-idx1-ubyte.gz\n",
            "32768/29515 [=================================] - 0s 0us/step\n",
            "40960/29515 [=========================================] - 0s 0us/step\n",
            "Downloading data from https://storage.googleapis.com/tensorflow/tf-keras-datasets/train-images-idx3-ubyte.gz\n",
            "26427392/26421880 [==============================] - 1s 0us/step\n",
            "26435584/26421880 [==============================] - 1s 0us/step\n",
            "Downloading data from https://storage.googleapis.com/tensorflow/tf-keras-datasets/t10k-labels-idx1-ubyte.gz\n",
            "16384/5148 [===============================================================================================] - 0s 0us/step\n",
            "Downloading data from https://storage.googleapis.com/tensorflow/tf-keras-datasets/t10k-images-idx3-ubyte.gz\n",
            "4423680/4422102 [==============================] - 0s 0us/step\n",
            "4431872/4422102 [==============================] - 0s 0us/step\n",
            "Training data shape :  (60000, 28, 28) (60000,)\n",
            "Testing data shape :  (10000, 28, 28) (10000,)\n"
          ]
        }
      ],
      "source": [
        "import tensorflow as tf\n",
        "from tensorflow import keras\n",
        "\n",
        "(train_X,train_Y), (test_X,test_Y) = keras.datasets.fashion_mnist.load_data()\n",
        "print('Training data shape : ', train_X.shape, train_Y.shape)\n",
        "print('Testing data shape : ', test_X.shape, test_Y.shape)"
      ]
    },
    {
      "cell_type": "code",
      "execution_count": 5,
      "id": "da59d36f",
      "metadata": {
        "id": "da59d36f"
      },
      "outputs": [],
      "source": [
        "def build_model(hp):  \n",
        "    model = tensorflow.keras.Sequential([\n",
        "    tensorflow.keras.layers.Conv2D(\n",
        "        filters=hp.Int('conv_1_filter', min_value=32, max_value=128, step=16),\n",
        "        # Sets minimum and max values of filters from 32 to 128\n",
        "        kernel_size=hp.Choice('conv_1_kernel', values = [3,5]),\n",
        "        activation='relu',\n",
        "        input_shape=(28,28,1)\n",
        "    ),\n",
        "    tensorflow.keras.layers.Conv2D(\n",
        "        filters=hp.Int('conv_2_filter', min_value=32, max_value=64, step=16),\n",
        "        kernel_size=hp.Choice('conv_2_kernel', values = [3,5]),\n",
        "        activation='relu'\n",
        "    ),\n",
        "    tensorflow.keras.layers.Conv2D(\n",
        "        filters=hp.Int('conv_3_filter', min_value=32, max_value=64, step=16),\n",
        "        kernel_size=hp.Choice('conv_3_kernel', values = [3,5]),\n",
        "        activation='relu'\n",
        "    ),\n",
        "    tensorflow.keras.layers.Flatten(),\n",
        "    tensorflow.keras.layers.Dense(\n",
        "        units=hp.Int('dense_1_units', min_value=32, max_value=128, step=16),\n",
        "        activation='relu'\n",
        "    ),\n",
        "    tensorflow.keras.layers.Dense(10, activation='softmax')\n",
        "  ])\n",
        "    \n",
        "    model.compile(optimizer=tensorflow.keras.optimizers.Adam(hp.Choice('learning_rate', values=[1e-2, 1e-3])),\n",
        "              loss='sparse_categorical_crossentropy',\n",
        "              metrics=['accuracy'])\n",
        "    \n",
        "    return model"
      ]
    },
    {
      "cell_type": "code",
      "execution_count": 6,
      "id": "65fd6d61",
      "metadata": {
        "id": "65fd6d61"
      },
      "outputs": [],
      "source": [
        "tuner_search=RandomSearch(build_model,\n",
        "                          objective='accuracy',\n",
        "                          max_trials=10,directory='output',project_name=\"Mnist Fashion\")\n",
        "\n",
        "# Random Search will tell which parameter is best for Keras tuning"
      ]
    },
    {
      "cell_type": "code",
      "execution_count": 10,
      "id": "758ace97",
      "metadata": {
        "id": "758ace97"
      },
      "outputs": [],
      "source": [
        "train_X_new=train_X/255.0\n",
        "test_X_new=test_X/255.0"
      ]
    },
    {
      "cell_type": "code",
      "execution_count": 8,
      "id": "8aeb336d",
      "metadata": {
        "colab": {
          "base_uri": "https://localhost:8080/"
        },
        "id": "8aeb336d",
        "outputId": "52dbd1dc-9e9b-432b-f6fb-370db7722916"
      },
      "outputs": [
        {
          "output_type": "execute_result",
          "data": {
            "text/plain": [
              "(28, 28)"
            ]
          },
          "metadata": {},
          "execution_count": 8
        }
      ],
      "source": [
        "train_X_new[0].shape"
      ]
    },
    {
      "cell_type": "code",
      "execution_count": 11,
      "id": "d352386d",
      "metadata": {
        "id": "d352386d"
      },
      "outputs": [],
      "source": [
        "train_X_new=train_X_new.reshape(len(train_X_new),28,28,1)\n",
        "test_X_new=test_X_new.reshape(len(test_X_new),28,28,1)"
      ]
    },
    {
      "cell_type": "code",
      "execution_count": 10,
      "id": "43ac5043",
      "metadata": {
        "colab": {
          "base_uri": "https://localhost:8080/"
        },
        "id": "43ac5043",
        "outputId": "e9018a31-6125-4121-ee80-7c605144019a"
      },
      "outputs": [
        {
          "output_type": "stream",
          "name": "stdout",
          "text": [
            "Trial 10 Complete [00h 01m 57s]\n",
            "accuracy: 0.8926296234130859\n",
            "\n",
            "Best accuracy So Far: 0.9950740933418274\n",
            "Total elapsed time: 00h 23m 38s\n",
            "INFO:tensorflow:Oracle triggered exit\n"
          ]
        }
      ],
      "source": [
        "tuner_search.search(train_X_new, train_Y,epochs=15,validation_split=0.1)"
      ]
    },
    {
      "cell_type": "code",
      "execution_count": 11,
      "id": "aef0c526",
      "metadata": {
        "id": "aef0c526"
      },
      "outputs": [],
      "source": [
        "model=tuner_search.get_best_models(num_models=1)[0]"
      ]
    },
    {
      "cell_type": "code",
      "execution_count": 12,
      "id": "3ef4d93d",
      "metadata": {
        "id": "3ef4d93d",
        "colab": {
          "base_uri": "https://localhost:8080/"
        },
        "outputId": "d847c1f7-fe55-400b-cbaa-713d07f8abad"
      },
      "outputs": [
        {
          "output_type": "stream",
          "name": "stdout",
          "text": [
            "Model: \"sequential\"\n",
            "_________________________________________________________________\n",
            " Layer (type)                Output Shape              Param #   \n",
            "=================================================================\n",
            " conv2d (Conv2D)             (None, 26, 26, 96)        960       \n",
            "                                                                 \n",
            " conv2d_1 (Conv2D)           (None, 24, 24, 48)        41520     \n",
            "                                                                 \n",
            " conv2d_2 (Conv2D)           (None, 22, 22, 64)        27712     \n",
            "                                                                 \n",
            " flatten (Flatten)           (None, 30976)             0         \n",
            "                                                                 \n",
            " dense (Dense)               (None, 64)                1982528   \n",
            "                                                                 \n",
            " dense_1 (Dense)             (None, 10)                650       \n",
            "                                                                 \n",
            "=================================================================\n",
            "Total params: 2,053,370\n",
            "Trainable params: 2,053,370\n",
            "Non-trainable params: 0\n",
            "_________________________________________________________________\n"
          ]
        }
      ],
      "source": [
        "model.summary()"
      ]
    },
    {
      "cell_type": "code",
      "execution_count": 15,
      "id": "9bf84422",
      "metadata": {
        "id": "9bf84422",
        "colab": {
          "base_uri": "https://localhost:8080/"
        },
        "outputId": "3b6142a1-8f53-4737-bc1c-06a995f20a24"
      },
      "outputs": [
        {
          "output_type": "stream",
          "name": "stdout",
          "text": [
            "Epoch 16/50\n",
            "1688/1688 [==============================] - 10s 6ms/step - loss: 0.0099 - accuracy: 0.9973 - val_loss: 0.8780 - val_accuracy: 0.9042\n",
            "Epoch 17/50\n",
            "1688/1688 [==============================] - 10s 6ms/step - loss: 0.0088 - accuracy: 0.9977 - val_loss: 1.0420 - val_accuracy: 0.9118\n",
            "Epoch 18/50\n",
            "1688/1688 [==============================] - 10s 6ms/step - loss: 0.0143 - accuracy: 0.9962 - val_loss: 0.9435 - val_accuracy: 0.9045\n",
            "Epoch 19/50\n",
            "1688/1688 [==============================] - 10s 6ms/step - loss: 0.0095 - accuracy: 0.9973 - val_loss: 1.1955 - val_accuracy: 0.8973\n",
            "Epoch 20/50\n",
            "1688/1688 [==============================] - 10s 6ms/step - loss: 0.0108 - accuracy: 0.9968 - val_loss: 1.0867 - val_accuracy: 0.9068\n",
            "Epoch 21/50\n",
            "1688/1688 [==============================] - 10s 6ms/step - loss: 0.0106 - accuracy: 0.9970 - val_loss: 1.0778 - val_accuracy: 0.9120\n",
            "Epoch 22/50\n",
            "1688/1688 [==============================] - 10s 6ms/step - loss: 0.0114 - accuracy: 0.9969 - val_loss: 0.9899 - val_accuracy: 0.9067\n",
            "Epoch 23/50\n",
            "1688/1688 [==============================] - 9s 6ms/step - loss: 0.0064 - accuracy: 0.9981 - val_loss: 1.0775 - val_accuracy: 0.9107\n",
            "Epoch 24/50\n",
            "1688/1688 [==============================] - 10s 6ms/step - loss: 0.0099 - accuracy: 0.9975 - val_loss: 1.0441 - val_accuracy: 0.9080\n",
            "Epoch 25/50\n",
            "1688/1688 [==============================] - 9s 6ms/step - loss: 0.0115 - accuracy: 0.9970 - val_loss: 1.2108 - val_accuracy: 0.9077\n",
            "Epoch 26/50\n",
            "1688/1688 [==============================] - 10s 6ms/step - loss: 0.0085 - accuracy: 0.9974 - val_loss: 1.1735 - val_accuracy: 0.9053\n",
            "Epoch 27/50\n",
            "1688/1688 [==============================] - 10s 6ms/step - loss: 0.0080 - accuracy: 0.9977 - val_loss: 1.3296 - val_accuracy: 0.9037\n",
            "Epoch 28/50\n",
            "1688/1688 [==============================] - 9s 6ms/step - loss: 0.0105 - accuracy: 0.9973 - val_loss: 1.2184 - val_accuracy: 0.9057\n",
            "Epoch 29/50\n",
            "1688/1688 [==============================] - 10s 6ms/step - loss: 0.0085 - accuracy: 0.9979 - val_loss: 1.2722 - val_accuracy: 0.9050\n",
            "Epoch 30/50\n",
            "1688/1688 [==============================] - 10s 6ms/step - loss: 0.0113 - accuracy: 0.9974 - val_loss: 1.2373 - val_accuracy: 0.9070\n",
            "Epoch 31/50\n",
            "1688/1688 [==============================] - 10s 6ms/step - loss: 0.0120 - accuracy: 0.9975 - val_loss: 1.2585 - val_accuracy: 0.9068\n",
            "Epoch 32/50\n",
            "1688/1688 [==============================] - 9s 6ms/step - loss: 0.0081 - accuracy: 0.9981 - val_loss: 1.4083 - val_accuracy: 0.9093\n",
            "Epoch 33/50\n",
            "1688/1688 [==============================] - 10s 6ms/step - loss: 0.0075 - accuracy: 0.9980 - val_loss: 1.2370 - val_accuracy: 0.9107\n",
            "Epoch 34/50\n",
            "1688/1688 [==============================] - 10s 6ms/step - loss: 0.0121 - accuracy: 0.9973 - val_loss: 1.1594 - val_accuracy: 0.9152\n",
            "Epoch 35/50\n",
            "1688/1688 [==============================] - 10s 6ms/step - loss: 0.0088 - accuracy: 0.9978 - val_loss: 1.2554 - val_accuracy: 0.9110\n",
            "Epoch 36/50\n",
            "1688/1688 [==============================] - 10s 6ms/step - loss: 0.0073 - accuracy: 0.9983 - val_loss: 1.3161 - val_accuracy: 0.9105\n",
            "Epoch 37/50\n",
            "1688/1688 [==============================] - 10s 6ms/step - loss: 0.0096 - accuracy: 0.9977 - val_loss: 1.3673 - val_accuracy: 0.9055\n",
            "Epoch 38/50\n",
            "1688/1688 [==============================] - 10s 6ms/step - loss: 0.0082 - accuracy: 0.9979 - val_loss: 1.5430 - val_accuracy: 0.9050\n",
            "Epoch 39/50\n",
            "1688/1688 [==============================] - 10s 6ms/step - loss: 0.0087 - accuracy: 0.9980 - val_loss: 1.5857 - val_accuracy: 0.9103\n",
            "Epoch 40/50\n",
            "1688/1688 [==============================] - 10s 6ms/step - loss: 0.0103 - accuracy: 0.9980 - val_loss: 1.3948 - val_accuracy: 0.9048\n",
            "Epoch 41/50\n",
            "1688/1688 [==============================] - 10s 6ms/step - loss: 0.0087 - accuracy: 0.9984 - val_loss: 1.3169 - val_accuracy: 0.9108\n",
            "Epoch 42/50\n",
            "1688/1688 [==============================] - 10s 6ms/step - loss: 0.0075 - accuracy: 0.9983 - val_loss: 1.4980 - val_accuracy: 0.9098\n",
            "Epoch 43/50\n",
            "1688/1688 [==============================] - 10s 6ms/step - loss: 0.0086 - accuracy: 0.9980 - val_loss: 1.8847 - val_accuracy: 0.9030\n",
            "Epoch 44/50\n",
            "1688/1688 [==============================] - 10s 6ms/step - loss: 0.0108 - accuracy: 0.9978 - val_loss: 1.6371 - val_accuracy: 0.9097\n",
            "Epoch 45/50\n",
            "1688/1688 [==============================] - 10s 6ms/step - loss: 0.0087 - accuracy: 0.9980 - val_loss: 1.4588 - val_accuracy: 0.9028\n",
            "Epoch 46/50\n",
            "1688/1688 [==============================] - 10s 6ms/step - loss: 0.0070 - accuracy: 0.9983 - val_loss: 1.7094 - val_accuracy: 0.9083\n",
            "Epoch 47/50\n",
            "1688/1688 [==============================] - 10s 6ms/step - loss: 0.0067 - accuracy: 0.9985 - val_loss: 1.8881 - val_accuracy: 0.9072\n",
            "Epoch 48/50\n",
            "1688/1688 [==============================] - 10s 6ms/step - loss: 0.0085 - accuracy: 0.9982 - val_loss: 1.8408 - val_accuracy: 0.9100\n",
            "Epoch 49/50\n",
            "1688/1688 [==============================] - 10s 6ms/step - loss: 0.0072 - accuracy: 0.9985 - val_loss: 1.7239 - val_accuracy: 0.9060\n",
            "Epoch 50/50\n",
            "1688/1688 [==============================] - 10s 6ms/step - loss: 0.0053 - accuracy: 0.9986 - val_loss: 1.7176 - val_accuracy: 0.9055\n"
          ]
        },
        {
          "output_type": "execute_result",
          "data": {
            "text/plain": [
              "<keras.callbacks.History at 0x7fb04e38b4d0>"
            ]
          },
          "metadata": {},
          "execution_count": 15
        }
      ],
      "source": [
        "model.fit(train_X_new, train_Y, epochs=50, validation_split=0.1, initial_epoch=15)"
      ]
    },
    {
      "cell_type": "code",
      "execution_count": 16,
      "id": "65912379",
      "metadata": {
        "id": "65912379",
        "colab": {
          "base_uri": "https://localhost:8080/"
        },
        "outputId": "b1c87cc9-6d6c-4391-8422-6b25a382bd97"
      },
      "outputs": [
        {
          "output_type": "stream",
          "name": "stdout",
          "text": [
            "Test accuracy: 0.906499981880188\n"
          ]
        }
      ],
      "source": [
        "test_eval = model.evaluate(test_X_new, test_Y, verbose = False)\n",
        "print('Test accuracy:', test_eval[1])"
      ]
    },
    {
      "cell_type": "code",
      "source": [
        "    model2 = tensorflow.keras.Sequential([\n",
        "        tensorflow.keras.layers.Conv2D(64, kernel_size=(3, 3), activation='relu', padding='same', \n",
        "               input_shape=(28, 28, 1)),\n",
        "        tensorflow.keras.layers.BatchNormalization(),\n",
        "        tensorflow.keras.layers.Conv2D(64, kernel_size=(3, 3), activation='relu'),\n",
        "        tensorflow.keras.layers.BatchNormalization(),\n",
        "        tensorflow.keras.layers.MaxPooling2D(pool_size=(2, 2)),\n",
        "\n",
        "        tensorflow.keras.layers.Conv2D(128, kernel_size=(3, 3), activation='relu', padding='same'),\n",
        "        tensorflow.keras.layers.BatchNormalization(),\n",
        "        tensorflow.keras.layers.Conv2D(128, kernel_size=(3, 3), activation='relu'),\n",
        "        tensorflow.keras.layers.BatchNormalization(),        \n",
        "        tensorflow.keras.layers.MaxPooling2D(pool_size=(2, 2)),\n",
        "        \n",
        "        tensorflow.keras.layers.Conv2D(256, kernel_size=(3, 3), activation='relu', padding='same'),\n",
        "        tensorflow.keras.layers.BatchNormalization(),\n",
        "        tensorflow.keras.layers.Conv2D(256, kernel_size=(3, 3), activation='relu'),\n",
        "        tensorflow.keras.layers.BatchNormalization(),    \n",
        "        tensorflow.keras.layers.MaxPooling2D(pool_size=(2, 2)),   \n",
        "        \n",
        "        tensorflow.keras.layers.Flatten(),\n",
        "        \n",
        "        tensorflow.keras.layers.Dense(1024, activation='relu'),\n",
        "        \n",
        "        tensorflow.keras.layers.Dense(512, activation='relu'),\n",
        "        \n",
        "        tensorflow.keras.layers.Dense(10, activation='softmax')\n",
        "    ])"
      ],
      "metadata": {
        "id": "ju9ZiiK3R_45"
      },
      "id": "ju9ZiiK3R_45",
      "execution_count": 6,
      "outputs": []
    },
    {
      "cell_type": "code",
      "source": [
        "from tensorflow.keras.optimizers import Adam\n",
        "adam = Adam(lr=0.0001, decay=1e-6)\n",
        "model2.compile(optimizer=adam,\n",
        "                  loss='sparse_categorical_crossentropy',\n",
        "                  metrics=['accuracy'])\n"
      ],
      "metadata": {
        "colab": {
          "base_uri": "https://localhost:8080/"
        },
        "id": "mjVjMwi0R_7-",
        "outputId": "b9632109-71b2-4bbe-f644-866092ee190d"
      },
      "id": "mjVjMwi0R_7-",
      "execution_count": 8,
      "outputs": [
        {
          "output_type": "stream",
          "name": "stderr",
          "text": [
            "/usr/local/lib/python3.7/dist-packages/keras/optimizer_v2/adam.py:105: UserWarning: The `lr` argument is deprecated, use `learning_rate` instead.\n",
            "  super(Adam, self).__init__(name, **kwargs)\n"
          ]
        }
      ]
    },
    {
      "cell_type": "code",
      "source": [
        "model2.fit(train_X_new, train_Y, epochs=20, validation_split=0.1)"
      ],
      "metadata": {
        "colab": {
          "base_uri": "https://localhost:8080/"
        },
        "id": "zBtg9_b2T8m3",
        "outputId": "8df22766-63bd-4a30-ffd6-ae2056452855"
      },
      "id": "zBtg9_b2T8m3",
      "execution_count": 14,
      "outputs": [
        {
          "output_type": "stream",
          "name": "stdout",
          "text": [
            "Epoch 1/20\n",
            "1688/1688 [==============================] - 15s 9ms/step - loss: 0.0397 - accuracy: 0.9857 - val_loss: 0.3146 - val_accuracy: 0.9220\n",
            "Epoch 2/20\n",
            "1688/1688 [==============================] - 15s 9ms/step - loss: 0.0358 - accuracy: 0.9866 - val_loss: 0.4079 - val_accuracy: 0.9127\n",
            "Epoch 3/20\n",
            "1688/1688 [==============================] - 15s 9ms/step - loss: 0.0323 - accuracy: 0.9885 - val_loss: 0.3396 - val_accuracy: 0.9218\n",
            "Epoch 4/20\n",
            "1688/1688 [==============================] - 15s 9ms/step - loss: 0.0282 - accuracy: 0.9901 - val_loss: 0.3980 - val_accuracy: 0.9210\n",
            "Epoch 5/20\n",
            "1688/1688 [==============================] - 15s 9ms/step - loss: 0.0284 - accuracy: 0.9899 - val_loss: 0.3640 - val_accuracy: 0.9245\n",
            "Epoch 6/20\n",
            "1688/1688 [==============================] - 15s 9ms/step - loss: 0.0278 - accuracy: 0.9902 - val_loss: 0.4058 - val_accuracy: 0.9160\n",
            "Epoch 7/20\n",
            "1688/1688 [==============================] - 15s 9ms/step - loss: 0.0227 - accuracy: 0.9919 - val_loss: 0.3915 - val_accuracy: 0.9222\n",
            "Epoch 8/20\n",
            "1688/1688 [==============================] - 15s 9ms/step - loss: 0.0221 - accuracy: 0.9926 - val_loss: 0.3952 - val_accuracy: 0.9238\n",
            "Epoch 9/20\n",
            "1688/1688 [==============================] - 15s 9ms/step - loss: 0.0215 - accuracy: 0.9926 - val_loss: 0.3897 - val_accuracy: 0.9202\n",
            "Epoch 10/20\n",
            "1688/1688 [==============================] - 15s 9ms/step - loss: 0.0199 - accuracy: 0.9932 - val_loss: 0.3760 - val_accuracy: 0.9230\n",
            "Epoch 11/20\n",
            "1688/1688 [==============================] - 15s 9ms/step - loss: 0.0193 - accuracy: 0.9936 - val_loss: 0.3758 - val_accuracy: 0.9253\n",
            "Epoch 12/20\n",
            "1688/1688 [==============================] - 15s 9ms/step - loss: 0.0187 - accuracy: 0.9936 - val_loss: 0.3932 - val_accuracy: 0.9240\n",
            "Epoch 13/20\n",
            "1688/1688 [==============================] - 15s 9ms/step - loss: 0.0186 - accuracy: 0.9936 - val_loss: 0.3992 - val_accuracy: 0.9220\n",
            "Epoch 14/20\n",
            "1688/1688 [==============================] - 15s 9ms/step - loss: 0.0159 - accuracy: 0.9948 - val_loss: 0.3828 - val_accuracy: 0.9238\n",
            "Epoch 15/20\n",
            "1688/1688 [==============================] - 15s 9ms/step - loss: 0.0161 - accuracy: 0.9942 - val_loss: 0.3824 - val_accuracy: 0.9232\n",
            "Epoch 16/20\n",
            "1688/1688 [==============================] - 15s 9ms/step - loss: 0.0163 - accuracy: 0.9945 - val_loss: 0.3982 - val_accuracy: 0.9238\n",
            "Epoch 17/20\n",
            "1688/1688 [==============================] - 15s 9ms/step - loss: 0.0146 - accuracy: 0.9947 - val_loss: 0.3926 - val_accuracy: 0.9232\n",
            "Epoch 18/20\n",
            "1688/1688 [==============================] - 15s 9ms/step - loss: 0.0146 - accuracy: 0.9950 - val_loss: 0.4196 - val_accuracy: 0.9253\n",
            "Epoch 19/20\n",
            "1688/1688 [==============================] - 15s 9ms/step - loss: 0.0140 - accuracy: 0.9950 - val_loss: 0.3994 - val_accuracy: 0.9265\n",
            "Epoch 20/20\n",
            "1688/1688 [==============================] - 15s 9ms/step - loss: 0.0138 - accuracy: 0.9956 - val_loss: 0.4176 - val_accuracy: 0.9270\n"
          ]
        },
        {
          "output_type": "execute_result",
          "data": {
            "text/plain": [
              "<keras.callbacks.History at 0x7f78900f75d0>"
            ]
          },
          "metadata": {},
          "execution_count": 14
        }
      ]
    },
    {
      "cell_type": "code",
      "source": [
        "test_eval = model2.evaluate(test_X_new, test_Y, verbose = False)\n",
        "print('Test accuracy:', test_eval[1])"
      ],
      "metadata": {
        "colab": {
          "base_uri": "https://localhost:8080/"
        },
        "id": "21lb_i6JR_-W",
        "outputId": "463c7d85-fbbb-4e19-a167-96fb3f70866c"
      },
      "id": "21lb_i6JR_-W",
      "execution_count": 15,
      "outputs": [
        {
          "output_type": "stream",
          "name": "stdout",
          "text": [
            "Test accuracy: 0.9225000143051147\n"
          ]
        }
      ]
    }
  ],
  "metadata": {
    "kernelspec": {
      "display_name": "Python 3 (ipykernel)",
      "language": "python",
      "name": "python3"
    },
    "language_info": {
      "codemirror_mode": {
        "name": "ipython",
        "version": 3
      },
      "file_extension": ".py",
      "mimetype": "text/x-python",
      "name": "python",
      "nbconvert_exporter": "python",
      "pygments_lexer": "ipython3",
      "version": "3.7.0"
    },
    "colab": {
      "name": "FashionMNIST.ipynb",
      "provenance": [],
      "collapsed_sections": []
    },
    "accelerator": "GPU"
  },
  "nbformat": 4,
  "nbformat_minor": 5
}